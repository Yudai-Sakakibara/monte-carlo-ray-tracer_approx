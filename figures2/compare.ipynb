{
 "cells": [
  {
   "cell_type": "code",
   "execution_count": 1,
   "metadata": {},
   "outputs": [],
   "source": [
    "# 必要ライブラリのインストール\n",
    "from PIL import Image\n",
    "import numpy as np\n",
    "import os"
   ]
  },
  {
   "cell_type": "code",
   "execution_count": 2,
   "metadata": {},
   "outputs": [],
   "source": [
    "def MSE(x, y):\n",
    "    l = len(x)\n",
    "    sum = 0.0\n",
    "    for i in range(l):\n",
    "        diff = float(x[i]) - float(y[i])\n",
    "        sum += (diff * diff)\n",
    "    return sum / l"
   ]
  },
  {
   "cell_type": "code",
   "execution_count": 3,
   "metadata": {},
   "outputs": [],
   "source": [
    "def print_MSEs(img1, img2):\n",
    "    MSE_arr = [0.0] * 4\n",
    "    for i in range(3):\n",
    "        img1_arr = np.array(img1)[:, :, i].reshape(-1)\n",
    "        img2_arr = np.array(img2)[:, :, i].reshape(-1)\n",
    "        MSE_arr[i] = MSE(img1_arr, img2_arr)\n",
    "    img1_gray = img1.convert('L')\n",
    "    img2_gray = img2.convert('L')\n",
    "    img1_gray_arr = np.array(img1_gray).reshape(-1)\n",
    "    img2_gray_arr = np.array(img2_gray).reshape(-1)\n",
    "    MSE_arr[3] = MSE(img1_gray_arr, img2_gray_arr)\n",
    "    print(str(MSE_arr[0]) + '\\t' + str(MSE_arr[1]) + '\\t' + str(MSE_arr[2]) + '\\t' + str(MSE_arr[3]))"
   ]
  },
  {
   "cell_type": "code",
   "execution_count": 6,
   "metadata": {},
   "outputs": [
    {
     "name": "stdout",
     "output_type": "stream",
     "text": [
      "143.2001953125\t110.30703735351562\t77.37776184082031\t113.80474853515625\n",
      "174.58737182617188\t146.65245056152344\t111.46611022949219\t148.17527770996094\n",
      "149.03982543945312\t115.47157287597656\t80.17861938476562\t118.69190979003906\n",
      "144.48829650878906\t111.80815124511719\t78.02244567871094\t115.08631896972656\n",
      "144.7924346923828\t111.65798950195312\t78.07839965820312\t115.1015625\n",
      "144.46804809570312\t111.52734375\t78.03709411621094\t114.94830322265625\n",
      "145.40582275390625\t111.26512145996094\t76.65257263183594\t114.67436218261719\n",
      "148.5875244140625\t114.9598388671875\t80.59100341796875\t118.31695556640625\n",
      "149.09507751464844\t115.90682983398438\t81.08757019042969\t119.07620239257812\n",
      "150.5408935546875\t117.1805419921875\t81.80499267578125\t120.21206665039062\n",
      "156.54757690429688\t122.56590270996094\t84.97129821777344\t125.51454162597656\n",
      "212.95669555664062\t185.35769653320312\t139.5744171142578\t185.00254821777344\n",
      "160.8055419921875\t126.5732421875\t86.91403198242188\t129.1389923095703\n",
      "162.52268981933594\t128.0434112548828\t88.153564453125\t130.6058807373047\n",
      "229.43716430664062\t201.2952117919922\t151.58355712890625\t200.313720703125\n",
      "152.0507049560547\t114.69439697265625\t77.03009033203125\t118.13572692871094\n",
      "253.4115447998047\t223.4229736328125\t167.61990356445312\t222.0877685546875\n"
     ]
    }
   ],
   "source": [
    "img_ref = Image.open('wc/wc_ref.tga')\n",
    "for i in range(17):\n",
    "    i_str = str(i)\n",
    "    if i < 10: i_str = '0' + i_str\n",
    "    img_approx = Image.open('wc/wc_' + i_str +'.tga')\n",
    "    print_MSEs(img_ref, img_approx)"
   ]
  },
  {
   "cell_type": "code",
   "execution_count": 10,
   "metadata": {},
   "outputs": [],
   "source": [
    "folder_name = \"wc\"\n",
    "os.makedirs(folder_name + \"_jpg2\", exist_ok=True) # ①\n",
    "for file in os.listdir(folder_name): # ②\n",
    "    l = len(file)\n",
    "    name = file[: l - 4]\n",
    "    extension = file[l - 3:]\n",
    "    if extension == \"tga\": # ④\n",
    "        img = Image.open(folder_name + \"/\" + file) # ⑤\n",
    "        if img.mode != \"RGB\": # ☆\n",
    "            img = img.convert(\"RGB\")\n",
    "        img.save(folder_name + \"_jpg2/\" + name + \".jpg\", 'JPEG', quality=95) # ⑥"
   ]
  },
  {
   "cell_type": "code",
   "execution_count": 6,
   "metadata": {},
   "outputs": [],
   "source": [
    "def print_MSEs_YCbCr(img1, img2):\n",
    "    MSE_arr = [0.0] * 3\n",
    "    img1_ycbcr = img1.convert('YCbCr')\n",
    "    img2_ycbcr = img2.convert('YCbCr')\n",
    "    for i in range(3):\n",
    "        img1_arr = np.array(img1_ycbcr)[:, :, i].reshape(-1)\n",
    "        img2_arr = np.array(img2_ycbcr)[:, :, i].reshape(-1)\n",
    "        MSE_arr[i] = MSE(img1_arr, img2_arr)\n",
    "    print(str(MSE_arr[0]) + '\\t' + str(MSE_arr[1]) + '\\t' + str(MSE_arr[2]))"
   ]
  },
  {
   "cell_type": "code",
   "execution_count": 12,
   "metadata": {},
   "outputs": [
    {
     "name": "stdout",
     "output_type": "stream",
     "text": [
      "132.5572509765625\t3.4503173828125\t2.323974609375\n",
      "132.955078125\t3.4451904296875\t2.36907958984375\n",
      "133.814697265625\t3.48681640625\t2.32696533203125\n",
      "131.411865234375\t3.41387939453125\t2.32769775390625\n",
      "134.92718505859375\t3.49285888671875\t2.34027099609375\n",
      "129.689453125\t3.41192626953125\t2.30535888671875\n",
      "140.82525634765625\t3.79071044921875\t2.56134033203125\n",
      "135.583251953125\t3.439697265625\t2.36920166015625\n",
      "137.03643798828125\t3.5311279296875\t2.4202880859375\n",
      "134.4288330078125\t3.6142578125\t2.41326904296875\n",
      "133.609375\t3.5811767578125\t2.46826171875\n",
      "139.37908935546875\t3.68603515625\t2.48480224609375\n",
      "142.064697265625\t3.86163330078125\t2.57501220703125\n",
      "143.41400146484375\t3.80078125\t2.5599365234375\n",
      "142.68408203125\t3.95819091796875\t2.59722900390625\n",
      "146.000244140625\t3.96453857421875\t2.63763427734375\n",
      "129.6583251953125\t4.302490234375\t2.89959716796875\n"
     ]
    }
   ],
   "source": [
    "img_ref = Image.open('wc/wc_ref.tga')\n",
    "for i in range(17):\n",
    "    i_str = str(i)\n",
    "    if i < 10: i_str = '0' + i_str\n",
    "    img_approx = Image.open('wc/wc_' + i_str +'.tga')\n",
    "    print_MSEs_YCbCr(img_ref, img_approx)"
   ]
  }
 ],
 "metadata": {
  "colab": {
   "provenance": []
  },
  "kernelspec": {
   "display_name": "Python 3",
   "name": "python3"
  },
  "language_info": {
   "codemirror_mode": {
    "name": "ipython",
    "version": 3
   },
   "file_extension": ".py",
   "mimetype": "text/x-python",
   "name": "python",
   "nbconvert_exporter": "python",
   "pygments_lexer": "ipython3",
   "version": "3.12.4"
  }
 },
 "nbformat": 4,
 "nbformat_minor": 0
}
