{
 "cells": [
  {
   "cell_type": "code",
   "execution_count": 1,
   "metadata": {},
   "outputs": [],
   "source": [
    "# 必要ライブラリのインストール\n",
    "from PIL import Image\n",
    "import numpy as np"
   ]
  },
  {
   "cell_type": "code",
   "execution_count": 2,
   "metadata": {},
   "outputs": [],
   "source": [
    "def myssim(x, y):\n",
    "    l = len(x)\n",
    "    mu_x = np.average(x)\n",
    "    mu_y = np.average(y)\n",
    "    sigma_x = np.std(x)\n",
    "    sigma_y = np.std(y)\n",
    "    cov_xy = np.cov(x, y)[0][1] * (l - 1) / l\n",
    "    C1 = (0.01 * 255) * (0.01 * 255)\n",
    "    C2 = (0.03 * 255) * (0.03 * 255)\n",
    "    P = (2 * mu_x * mu_y + C1) * (2 * cov_xy + C2)\n",
    "    Q = (mu_x * mu_x + mu_y * mu_y + C1) * (sigma_x * sigma_x + sigma_y * sigma_y + C2)\n",
    "    return P / Q"
   ]
  },
  {
   "cell_type": "code",
   "execution_count": 3,
   "metadata": {},
   "outputs": [],
   "source": [
    "def MSE(x, y):\n",
    "    l = len(x)\n",
    "    sum = 0.0\n",
    "    for i in range(l):\n",
    "        diff = float(x[i]) - float(y[i])\n",
    "        sum += (diff * diff)\n",
    "    return sum / l"
   ]
  },
  {
   "cell_type": "code",
   "execution_count": 10,
   "metadata": {},
   "outputs": [
    {
     "name": "stdout",
     "output_type": "stream",
     "text": [
      "SSIM (Red):   0.987156062585914\n",
      "SSIM (Green): 0.9886611736731875\n",
      "SSIM (Blue):  0.9892679058096671\n",
      "SSIM (Gray):  0.9855341874507982\n",
      "MSE (Red):   86.12491861979167\n",
      "MSE (Green): 80.490478515625\n",
      "MSE (Blue):  83.20247395833333\n",
      "MSE (Gray):  76.77897135416667\n",
      "86.12491861979167\t80.490478515625\t83.20247395833333\t76.77897135416667\n"
     ]
    }
   ],
   "source": [
    "img1 = Image.open('c1b_jpg2/c1b_ref.jpg')\n",
    "img2 = Image.open('c1b_jpg2/c1b_8.jpg')\n",
    "color = ['(Red):   ', '(Green): ', '(Blue):  ', '(Gray):  ']\n",
    "ssim_arr = [0.0] * 4\n",
    "mse_arr = [0.0] * 4\n",
    "\n",
    "for i in range(3):\n",
    "    img1_arr = np.array(img1)[:, :, i].reshape(-1)\n",
    "    img2_arr = np.array(img2)[:, :, i].reshape(-1)\n",
    "    ssim_arr[i] = myssim(img1_arr, img2_arr)\n",
    "    mse_arr[i] = MSE(img1_arr, img2_arr)\n",
    "\n",
    "img1_gray = img1.convert('L')\n",
    "img2_gray = img2.convert('L')\n",
    "img1_gray_arr = np.array(img1_gray).reshape(-1)\n",
    "img2_gray_arr = np.array(img2_gray).reshape(-1)\n",
    "ssim_arr[3] = myssim(img1_gray_arr, img2_gray_arr)\n",
    "mse_arr[3] = MSE(img1_gray_arr, img2_gray_arr)\n",
    "\n",
    "for i in range(4):\n",
    "    print('SSIM ' + color[i] + str(ssim_arr[i]))\n",
    "\n",
    "for i in range(4):\n",
    "    print('MSE ' + color[i] + str(mse_arr[i]))\n",
    "\n",
    "print(str(mse_arr[0]) + '\\t' + str(mse_arr[1]) + '\\t' + str(mse_arr[2]) + '\\t' + str(mse_arr[3]))"
   ]
  },
  {
   "cell_type": "code",
   "execution_count": 29,
   "metadata": {},
   "outputs": [],
   "source": [
    "from PIL import Image\n",
    "import os\n",
    "\n",
    "folder_name = \"wc\"\n",
    "os.makedirs(folder_name + \"_jpg\", exist_ok=True) # ①\n",
    "for file in os.listdir(folder_name): # ②\n",
    "    l = len(file)\n",
    "    name = file[: l - 4]\n",
    "    extension = file[l - 3:]\n",
    "    if extension == \"tga\": # ④\n",
    "        img = Image.open(folder_name + \"/\" + file) # ⑤\n",
    "        if img.mode != \"RGB\": # ☆\n",
    "            img = img.convert(\"RGB\")\n",
    "        img.save(folder_name + \"_jpg/\" + name + \".jpg\") # ⑥"
   ]
  },
  {
   "cell_type": "code",
   "execution_count": 38,
   "metadata": {},
   "outputs": [],
   "source": [
    "from PIL import Image\n",
    "import os\n",
    "\n",
    "folder_name = \"c1b\"\n",
    "os.makedirs(folder_name + \"_jpg2\", exist_ok=True) # ①\n",
    "for file in os.listdir(folder_name): # ②\n",
    "    l = len(file)\n",
    "    name = file[: l - 4]\n",
    "    extension = file[l - 3:]\n",
    "    if extension == \"tga\": # ④\n",
    "        img = Image.open(folder_name + \"/\" + file) # ⑤\n",
    "        if img.mode != \"RGB\": # ☆\n",
    "            img = img.convert(\"RGB\")\n",
    "        img.save(folder_name + \"_jpg2/\" + name + \".jpg\", 'JPEG', quality=95) # ⑥"
   ]
  },
  {
   "cell_type": "code",
   "execution_count": 19,
   "metadata": {},
   "outputs": [
    {
     "name": "stdout",
     "output_type": "stream",
     "text": [
      "63.05279541015625\t1.9644775390625\t1.2381591796875\n"
     ]
    }
   ],
   "source": [
    "img3 = Image.open('wc/wc_ref.tga')\n",
    "img4 = Image.open('wc/wc_8.tga')\n",
    "img5 = img3.convert('YCbCr')\n",
    "img6 = img4.convert('YCbCr')\n",
    "mse_arr2 = [0.0] * 3\n",
    "for i in range(3):\n",
    "    img5_arr = np.array(img5)[:, :, i].reshape(-1)\n",
    "    img6_arr = np.array(img6)[:, :, i].reshape(-1)\n",
    "    mse_arr2[i] = MSE(img5_arr, img6_arr)\n",
    "print(str(mse_arr2[0]) + '\\t' + str(mse_arr2[1]) + '\\t' + str(mse_arr2[2]))"
   ]
  },
  {
   "cell_type": "code",
   "execution_count": 3,
   "metadata": {},
   "outputs": [],
   "source": [
    "a = np.matrix([[0.299, 0.587, 0.114], \n",
    "               [-0.168736, -0.331264, 0.5], \n",
    "               [0.5, -0.411688, -0.081312]])"
   ]
  },
  {
   "cell_type": "code",
   "execution_count": 5,
   "metadata": {},
   "outputs": [
    {
     "data": {
      "text/plain": [
       "matrix([[ 9.90136697e-01,  3.39309568e-03,  1.40904333e+00],\n",
       "        [ 1.00502407e+00, -3.45864639e-01, -7.17724024e-01],\n",
       "        [ 9.99999997e-01,  1.77200007e+00,  4.08339332e-07]])"
      ]
     },
     "execution_count": 5,
     "metadata": {},
     "output_type": "execute_result"
    }
   ],
   "source": [
    "np.linalg.inv(a)"
   ]
  }
 ],
 "metadata": {
  "colab": {
   "provenance": []
  },
  "kernelspec": {
   "display_name": "Python 3",
   "name": "python3"
  },
  "language_info": {
   "codemirror_mode": {
    "name": "ipython",
    "version": 3
   },
   "file_extension": ".py",
   "mimetype": "text/x-python",
   "name": "python",
   "nbconvert_exporter": "python",
   "pygments_lexer": "ipython3",
   "version": "3.12.4"
  }
 },
 "nbformat": 4,
 "nbformat_minor": 0
}
