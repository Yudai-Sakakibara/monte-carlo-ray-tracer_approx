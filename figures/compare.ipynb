{
 "cells": [
  {
   "cell_type": "code",
   "execution_count": 2,
   "metadata": {},
   "outputs": [],
   "source": [
    "# 必要ライブラリのインストール\n",
    "from PIL import Image\n",
    "import numpy as np\n",
    "import os"
   ]
  },
  {
   "cell_type": "code",
   "execution_count": 3,
   "metadata": {},
   "outputs": [],
   "source": [
    "def MSE(x, y):\n",
    "    l = len(x)\n",
    "    sum = 0.0\n",
    "    for i in range(l):\n",
    "        diff = float(x[i]) - float(y[i])\n",
    "        sum += (diff * diff)\n",
    "    return sum / l"
   ]
  },
  {
   "cell_type": "code",
   "execution_count": 4,
   "metadata": {},
   "outputs": [],
   "source": [
    "def print_MSEs(img1, img2):\n",
    "    MSE_arr = [0.0] * 4\n",
    "    for i in range(3):\n",
    "        img1_arr = np.array(img1)[:, :, i].reshape(-1)\n",
    "        img2_arr = np.array(img2)[:, :, i].reshape(-1)\n",
    "        MSE_arr[i] = MSE(img1_arr, img2_arr)\n",
    "    img1_gray = img1.convert('L')\n",
    "    img2_gray = img2.convert('L')\n",
    "    img1_gray_arr = np.array(img1_gray).reshape(-1)\n",
    "    img2_gray_arr = np.array(img2_gray).reshape(-1)\n",
    "    MSE_arr[3] = MSE(img1_gray_arr, img2_gray_arr)\n",
    "    print(str(MSE_arr[0]) + '\\t' + str(MSE_arr[1]) + '\\t' + str(MSE_arr[2]) + '\\t' + str(MSE_arr[3]))"
   ]
  },
  {
   "cell_type": "code",
   "execution_count": 9,
   "metadata": {},
   "outputs": [
    {
     "name": "stdout",
     "output_type": "stream",
     "text": [
      "169.86648559570312\t167.0816192626953\t161.08837890625\t165.84109497070312\n",
      "156.3392333984375\t152.71853637695312\t149.99026489257812\t152.2513427734375\n",
      "185.6800994873047\t185.7587432861328\t179.01705932617188\t183.35836791992188\n",
      "157.70587158203125\t154.76939392089844\t152.13182067871094\t154.0243682861328\n",
      "157.9256134033203\t155.49610900878906\t152.2120819091797\t154.5487518310547\n",
      "156.25889587402344\t153.184814453125\t149.98489379882812\t152.38803100585938\n",
      "155.24591064453125\t151.8163299560547\t149.1192169189453\t151.16897583007812\n",
      "203.12535095214844\t203.2940216064453\t191.66053771972656\t200.16746520996094\n",
      "159.48196411132812\t156.12893676757812\t150.81675720214844\t155.11021423339844\n",
      "164.60533142089844\t160.58502197265625\t153.35130310058594\t159.46685791015625\n",
      "216.66885375976562\t216.47518920898438\t200.62521362304688\t212.6896209716797\n",
      "162.88204956054688\t158.74493408203125\t151.52386474609375\t157.58900451660156\n",
      "173.8108367919922\t169.04852294921875\t158.8055419921875\t167.5807647705078\n",
      "158.7576904296875\t153.34828186035156\t147.11474609375\t152.4446563720703\n",
      "176.761474609375\t171.62171936035156\t159.84521484375\t169.95103454589844\n",
      "183.096923828125\t177.68373107910156\t163.726806640625\t175.6995849609375\n",
      "162.22735595703125\t155.9100341796875\t147.8656005859375\t154.889404296875\n"
     ]
    }
   ],
   "source": [
    "img_ref = Image.open('wc_jpg2/wc_ref.jpg')\n",
    "for i in range(17):\n",
    "    i_str = str(i)\n",
    "    if i < 10: i_str = '0' + i_str\n",
    "    img_approx = Image.open('wc_jpg2/wc_' + i_str +'.jpg')\n",
    "    print_MSEs(img_ref, img_approx)"
   ]
  },
  {
   "cell_type": "code",
   "execution_count": 8,
   "metadata": {},
   "outputs": [],
   "source": [
    "folder_name = \"wc\"\n",
    "os.makedirs(folder_name + \"_jpg2\", exist_ok=True) # ①\n",
    "for file in os.listdir(folder_name): # ②\n",
    "    l = len(file)\n",
    "    name = file[: l - 4]\n",
    "    extension = file[l - 3:]\n",
    "    if extension == \"tga\": # ④\n",
    "        img = Image.open(folder_name + \"/\" + file) # ⑤\n",
    "        if img.mode != \"RGB\": # ☆\n",
    "            img = img.convert(\"RGB\")\n",
    "        img.save(folder_name + \"_jpg2/\" + name + \".jpg\", 'JPEG', quality=95) # ⑥"
   ]
  },
  {
   "cell_type": "code",
   "execution_count": 6,
   "metadata": {},
   "outputs": [],
   "source": [
    "def print_MSEs_YCbCr(img1, img2):\n",
    "    MSE_arr = [0.0] * 3\n",
    "    img1_ycbcr = img1.convert('YCbCr')\n",
    "    img2_ycbcr = img2.convert('YCbCr')\n",
    "    for i in range(3):\n",
    "        img1_arr = np.array(img1_ycbcr)[:, :, i].reshape(-1)\n",
    "        img2_arr = np.array(img2_ycbcr)[:, :, i].reshape(-1)\n",
    "        MSE_arr[i] = MSE(img1_arr, img2_arr)\n",
    "    print(str(MSE_arr[0]) + '\\t' + str(MSE_arr[1]) + '\\t' + str(MSE_arr[2]))"
   ]
  },
  {
   "cell_type": "code",
   "execution_count": 11,
   "metadata": {},
   "outputs": [
    {
     "name": "stdout",
     "output_type": "stream",
     "text": [
      "158.38368225097656\t4.25360107421875\t2.8819427490234375\n",
      "144.80752563476562\t3.9565582275390625\t2.7149200439453125\n",
      "175.6282196044922\t4.2833099365234375\t2.8290252685546875\n",
      "146.7635498046875\t4.103118896484375\t2.870147705078125\n",
      "146.68316650390625\t4.0734405517578125\t2.81536865234375\n",
      "145.0384063720703\t4.0769805908203125\t2.8497772216796875\n",
      "143.7628631591797\t4.1408538818359375\t2.8690338134765625\n",
      "192.77618408203125\t4.52520751953125\t2.91748046875\n",
      "147.30299377441406\t4.1153564453125\t2.82574462890625\n",
      "151.98654174804688\t4.2356109619140625\t2.8892364501953125\n",
      "205.3498992919922\t4.8228302001953125\t3.072052001953125\n",
      "150.37359619140625\t4.2377777099609375\t2.934051513671875\n",
      "160.1890411376953\t4.5331268310546875\t3.01373291015625\n",
      "145.09376525878906\t4.5857696533203125\t3.144500732421875\n",
      "162.5580291748047\t4.6417236328125\t3.1582794189453125\n",
      "168.6354522705078\t4.8383941650390625\t3.261749267578125\n",
      "147.82711791992188\t4.893768310546875\t3.4425048828125\n"
     ]
    }
   ],
   "source": [
    "img_ref = Image.open('wc/wc_ref.tga')\n",
    "for i in range(17):\n",
    "    i_str = str(i)\n",
    "    if i < 10: i_str = '0' + i_str\n",
    "    img_approx = Image.open('wc/wc_' + i_str +'.tga')\n",
    "    print_MSEs_YCbCr(img_ref, img_approx)"
   ]
  }
 ],
 "metadata": {
  "colab": {
   "provenance": []
  },
  "kernelspec": {
   "display_name": "Python 3",
   "name": "python3"
  },
  "language_info": {
   "codemirror_mode": {
    "name": "ipython",
    "version": 3
   },
   "file_extension": ".py",
   "mimetype": "text/x-python",
   "name": "python",
   "nbconvert_exporter": "python",
   "pygments_lexer": "ipython3",
   "version": "3.12.4"
  }
 },
 "nbformat": 4,
 "nbformat_minor": 0
}
