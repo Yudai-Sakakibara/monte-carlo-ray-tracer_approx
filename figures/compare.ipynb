{
 "cells": [
  {
   "cell_type": "code",
   "execution_count": 1,
   "metadata": {},
   "outputs": [],
   "source": [
    "# 必要ライブラリのインストール\n",
    "from PIL import Image\n",
    "import numpy as np\n",
    "import os"
   ]
  },
  {
   "cell_type": "code",
   "execution_count": 2,
   "metadata": {},
   "outputs": [],
   "source": [
    "def MSE(x, y):\n",
    "    l = len(x)\n",
    "    sum = 0.0\n",
    "    for i in range(l):\n",
    "        diff = float(x[i]) - float(y[i])\n",
    "        sum += (diff * diff)\n",
    "    return sum / l"
   ]
  },
  {
   "cell_type": "code",
   "execution_count": 3,
   "metadata": {},
   "outputs": [],
   "source": [
    "def print_MSEs(img1, img2):\n",
    "    MSE_arr = [0.0] * 4\n",
    "    for i in range(3):\n",
    "        img1_arr = np.array(img1)[:, :, i].reshape(-1)\n",
    "        img2_arr = np.array(img2)[:, :, i].reshape(-1)\n",
    "        MSE_arr[i] = MSE(img1_arr, img2_arr)\n",
    "    img1_gray = img1.convert('L')\n",
    "    img2_gray = img2.convert('L')\n",
    "    img1_gray_arr = np.array(img1_gray).reshape(-1)\n",
    "    img2_gray_arr = np.array(img2_gray).reshape(-1)\n",
    "    MSE_arr[3] = MSE(img1_gray_arr, img2_gray_arr)\n",
    "    print(str(MSE_arr[0]) + '\\t' + str(MSE_arr[1]) + '\\t' + str(MSE_arr[2]) + '\\t' + str(MSE_arr[3]))"
   ]
  },
  {
   "cell_type": "code",
   "execution_count": 11,
   "metadata": {},
   "outputs": [
    {
     "name": "stdout",
     "output_type": "stream",
     "text": [
      "144.028564453125\t140.91943359375\t139.46331787109375\t140.3160400390625\n",
      "144.24542236328125\t140.79998779296875\t139.10369873046875\t140.227294921875\n",
      "145.12548828125\t142.3740234375\t139.727294921875\t141.40179443359375\n",
      "142.2208251953125\t139.25482177734375\t136.862060546875\t138.4869384765625\n",
      "146.45159912109375\t143.02655029296875\t140.397705078125\t142.33966064453125\n",
      "141.57421875\t138.24505615234375\t135.46240234375\t137.45745849609375\n",
      "151.68975830078125\t149.40399169921875\t147.795166015625\t148.16925048828125\n",
      "148.60247802734375\t144.55609130859375\t142.7001953125\t143.97149658203125\n",
      "148.7730712890625\t144.76483154296875\t141.99371337890625\t144.2041015625\n",
      "147.0423583984375\t143.28729248046875\t138.80413818359375\t142.30242919921875\n",
      "146.17657470703125\t141.6011962890625\t138.59674072265625\t141.058349609375\n",
      "152.63616943359375\t148.40399169921875\t143.14813232421875\t147.4537353515625\n",
      "154.9178466796875\t150.9447021484375\t145.44256591796875\t149.81793212890625\n",
      "156.2593994140625\t152.43170166015625\t145.352783203125\t151.08807373046875\n",
      "156.01275634765625\t152.1534423828125\t144.55419921875\t150.6092529296875\n",
      "159.76220703125\t155.37677001953125\t146.537353515625\t153.94342041015625\n",
      "142.6719970703125\t137.95654296875\t135.981689453125\t137.08013916015625\n"
     ]
    }
   ],
   "source": [
    "img_ref = Image.open('wc_jpg2/wc_ref.jpg')\n",
    "for i in range(17):\n",
    "    i_str = str(i)\n",
    "    if i < 10: i_str = '0' + i_str\n",
    "    img_approx = Image.open('wc_jpg2/wc_' + i_str +'.jpg')\n",
    "    print_MSEs(img_ref, img_approx)"
   ]
  },
  {
   "cell_type": "code",
   "execution_count": 10,
   "metadata": {},
   "outputs": [],
   "source": [
    "folder_name = \"wc\"\n",
    "os.makedirs(folder_name + \"_jpg2\", exist_ok=True) # ①\n",
    "for file in os.listdir(folder_name): # ②\n",
    "    l = len(file)\n",
    "    name = file[: l - 4]\n",
    "    extension = file[l - 3:]\n",
    "    if extension == \"tga\": # ④\n",
    "        img = Image.open(folder_name + \"/\" + file) # ⑤\n",
    "        if img.mode != \"RGB\": # ☆\n",
    "            img = img.convert(\"RGB\")\n",
    "        img.save(folder_name + \"_jpg2/\" + name + \".jpg\", 'JPEG', quality=95) # ⑥"
   ]
  },
  {
   "cell_type": "code",
   "execution_count": 6,
   "metadata": {},
   "outputs": [],
   "source": [
    "def print_MSEs_YCbCr(img1, img2):\n",
    "    MSE_arr = [0.0] * 3\n",
    "    img1_ycbcr = img1.convert('YCbCr')\n",
    "    img2_ycbcr = img2.convert('YCbCr')\n",
    "    for i in range(3):\n",
    "        img1_arr = np.array(img1_ycbcr)[:, :, i].reshape(-1)\n",
    "        img2_arr = np.array(img2_ycbcr)[:, :, i].reshape(-1)\n",
    "        MSE_arr[i] = MSE(img1_arr, img2_arr)\n",
    "    print(str(MSE_arr[0]) + '\\t' + str(MSE_arr[1]) + '\\t' + str(MSE_arr[2]))"
   ]
  },
  {
   "cell_type": "code",
   "execution_count": 12,
   "metadata": {},
   "outputs": [
    {
     "name": "stdout",
     "output_type": "stream",
     "text": [
      "132.5572509765625\t3.4503173828125\t2.323974609375\n",
      "132.955078125\t3.4451904296875\t2.36907958984375\n",
      "133.814697265625\t3.48681640625\t2.32696533203125\n",
      "131.411865234375\t3.41387939453125\t2.32769775390625\n",
      "134.92718505859375\t3.49285888671875\t2.34027099609375\n",
      "129.689453125\t3.41192626953125\t2.30535888671875\n",
      "140.82525634765625\t3.79071044921875\t2.56134033203125\n",
      "135.583251953125\t3.439697265625\t2.36920166015625\n",
      "137.03643798828125\t3.5311279296875\t2.4202880859375\n",
      "134.4288330078125\t3.6142578125\t2.41326904296875\n",
      "133.609375\t3.5811767578125\t2.46826171875\n",
      "139.37908935546875\t3.68603515625\t2.48480224609375\n",
      "142.064697265625\t3.86163330078125\t2.57501220703125\n",
      "143.41400146484375\t3.80078125\t2.5599365234375\n",
      "142.68408203125\t3.95819091796875\t2.59722900390625\n",
      "146.000244140625\t3.96453857421875\t2.63763427734375\n",
      "129.6583251953125\t4.302490234375\t2.89959716796875\n"
     ]
    }
   ],
   "source": [
    "img_ref = Image.open('wc/wc_ref.tga')\n",
    "for i in range(17):\n",
    "    i_str = str(i)\n",
    "    if i < 10: i_str = '0' + i_str\n",
    "    img_approx = Image.open('wc/wc_' + i_str +'.tga')\n",
    "    print_MSEs_YCbCr(img_ref, img_approx)"
   ]
  }
 ],
 "metadata": {
  "colab": {
   "provenance": []
  },
  "kernelspec": {
   "display_name": "Python 3",
   "name": "python3"
  },
  "language_info": {
   "codemirror_mode": {
    "name": "ipython",
    "version": 3
   },
   "file_extension": ".py",
   "mimetype": "text/x-python",
   "name": "python",
   "nbconvert_exporter": "python",
   "pygments_lexer": "ipython3",
   "version": "3.12.4"
  }
 },
 "nbformat": 4,
 "nbformat_minor": 0
}
