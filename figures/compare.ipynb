{
  "cells": [
    {
      "cell_type": "code",
      "execution_count": 1,
      "metadata": {},
      "outputs": [],
      "source": [
        "# 必要ライブラリのインストール\n",
        "from PIL import Image\n",
        "import numpy as np"
      ]
    },
    {
      "cell_type": "code",
      "execution_count": 2,
      "metadata": {},
      "outputs": [],
      "source": [
        "def myssim(x, y):\n",
        "    l = len(x)\n",
        "    mu_x = np.average(x)\n",
        "    mu_y = np.average(y)\n",
        "    sigma_x = np.std(x)\n",
        "    sigma_y = np.std(y)\n",
        "    cov_xy = np.cov(x, y)[0][1] * (l - 1) / l\n",
        "    C1 = (0.01 * 255) * (0.01 * 255)\n",
        "    C2 = (0.03 * 255) * (0.03 * 255)\n",
        "    P = (2 * mu_x * mu_y + C1) * (2 * cov_xy + C2)\n",
        "    Q = (mu_x * mu_x + mu_y * mu_y + C1) * (sigma_x * sigma_x + sigma_y * sigma_y + C2)\n",
        "    return P / Q"
      ]
    },
    {
      "cell_type": "code",
      "execution_count": 11,
      "metadata": {},
      "outputs": [
        {
          "name": "stdout",
          "output_type": "stream",
          "text": [
            "SSIM (Red):   0.9891253242373278\n",
            "SSIM (Green): 0.9925653974933867\n",
            "SSIM (Blue):  0.9932489646647886\n",
            "SSIM (Gray):  0.9895583093520923\n",
            "0.9891253242373278\n",
            "0.9925653974933867\n",
            "0.9932489646647886\n",
            "0.9895583093520923\n"
          ]
        }
      ],
      "source": [
        "img1 = Image.open('c1b/c1b_064_black_half.tga')\n",
        "img2 = Image.open('c1b/c1b_ref.tga')\n",
        "color = ['(Red):   ', '(Green): ', '(Blue):  ', '(Gray):  ']\n",
        "ssim_arr = [0.0] * 4\n",
        "\n",
        "for i in range(3):\n",
        "    img1_arr = np.array(img1)[:, :, i].reshape(-1)\n",
        "    img2_arr = np.array(img2)[:, :, i].reshape(-1)\n",
        "    ssim_arr[i] = myssim(img1_arr, img2_arr)\n",
        "\n",
        "img1_gray = img1.convert('L')\n",
        "img2_gray = img2.convert('L')\n",
        "img1_gray_arr = np.array(img1_gray).reshape(-1)\n",
        "img2_gray_arr = np.array(img2_gray).reshape(-1)\n",
        "ssim_arr[3] = myssim(img1_gray_arr, img2_gray_arr)\n",
        "\n",
        "for i in range(4):\n",
        "    print('SSIM ' + color[i] + str(ssim_arr[i]))\n",
        "\n",
        "for i in range(4):\n",
        "    print(ssim_arr[i])"
      ]
    },
    {
      "cell_type": "code",
      "execution_count": 52,
      "metadata": {},
      "outputs": [
        {
          "data": {
            "text/plain": [
              "(1000, 1000, 3)"
            ]
          },
          "execution_count": 52,
          "metadata": {},
          "output_type": "execute_result"
        }
      ],
      "source": [
        "imgx = Image.open('TGA/water_caustics001.tga')\n",
        "np.array(imgx).shape"
      ]
    }
  ],
  "metadata": {
    "colab": {
      "provenance": []
    },
    "kernelspec": {
      "display_name": "Python 3",
      "name": "python3"
    },
    "language_info": {
      "codemirror_mode": {
        "name": "ipython",
        "version": 3
      },
      "file_extension": ".py",
      "mimetype": "text/x-python",
      "name": "python",
      "nbconvert_exporter": "python",
      "pygments_lexer": "ipython3",
      "version": "3.12.4"
    }
  },
  "nbformat": 4,
  "nbformat_minor": 0
}
