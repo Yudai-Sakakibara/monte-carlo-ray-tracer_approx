{
 "cells": [
  {
   "cell_type": "code",
   "execution_count": 1,
   "metadata": {},
   "outputs": [],
   "source": [
    "# 必要ライブラリのインストール\n",
    "from PIL import Image\n",
    "import numpy as np"
   ]
  },
  {
   "cell_type": "code",
   "execution_count": 2,
   "metadata": {},
   "outputs": [],
   "source": [
    "def myssim(x, y):\n",
    "    l = len(x)\n",
    "    mu_x = np.average(x)\n",
    "    mu_y = np.average(y)\n",
    "    sigma_x = np.std(x)\n",
    "    sigma_y = np.std(y)\n",
    "    cov_xy = np.cov(x, y)[0][1] * (l - 1) / l\n",
    "    C1 = (0.01 * 255) * (0.01 * 255)\n",
    "    C2 = (0.03 * 255) * (0.03 * 255)\n",
    "    P = (2 * mu_x * mu_y + C1) * (2 * cov_xy + C2)\n",
    "    Q = (mu_x * mu_x + mu_y * mu_y + C1) * (sigma_x * sigma_x + sigma_y * sigma_y + C2)\n",
    "    return P / Q"
   ]
  },
  {
   "cell_type": "code",
   "execution_count": 3,
   "metadata": {},
   "outputs": [],
   "source": [
    "def MSE(x, y):\n",
    "    l = len(x)\n",
    "    sum = 0.0\n",
    "    for i in range(l):\n",
    "        diff = float(x[i]) - float(y[i])\n",
    "        sum += (diff * diff)\n",
    "    return sum / l"
   ]
  },
  {
   "cell_type": "code",
   "execution_count": 28,
   "metadata": {},
   "outputs": [
    {
     "name": "stdout",
     "output_type": "stream",
     "text": [
      "SSIM (Red):   0.9779850678481763\n",
      "SSIM (Green): 0.9694021832145133\n",
      "SSIM (Blue):  0.965056552708302\n",
      "SSIM (Gray):  0.9720443273987937\n",
      "MSE (Red):   83.859043\n",
      "MSE (Green): 79.346397\n",
      "MSE (Blue):  74.476083\n",
      "MSE (Gray):  78.494251\n",
      "83.859043\t79.346397\t74.476083\n"
     ]
    }
   ],
   "source": [
    "img1 = Image.open('wc_approx4x_jpg/wc_16_16_1.0_64_4x.jpg')\n",
    "img2 = Image.open('ref_jpg/water_caustics_ref.jpg')\n",
    "color = ['(Red):   ', '(Green): ', '(Blue):  ', '(Gray):  ']\n",
    "ssim_arr = [0.0] * 4\n",
    "mse_arr = [0.0] * 4\n",
    "\n",
    "for i in range(3):\n",
    "    img1_arr = np.array(img1)[:, :, i].reshape(-1)\n",
    "    img2_arr = np.array(img2)[:, :, i].reshape(-1)\n",
    "    ssim_arr[i] = myssim(img1_arr, img2_arr)\n",
    "    mse_arr[i] = MSE(img1_arr, img2_arr)\n",
    "\n",
    "img1_gray = img1.convert('L')\n",
    "img2_gray = img2.convert('L')\n",
    "img1_gray_arr = np.array(img1_gray).reshape(-1)\n",
    "img2_gray_arr = np.array(img2_gray).reshape(-1)\n",
    "ssim_arr[3] = myssim(img1_gray_arr, img2_gray_arr)\n",
    "mse_arr[3] = MSE(img1_gray_arr, img2_gray_arr)\n",
    "\n",
    "for i in range(4):\n",
    "    print('SSIM ' + color[i] + str(ssim_arr[i]))\n",
    "\n",
    "for i in range(4):\n",
    "    print('MSE ' + color[i] + str(mse_arr[i]))\n",
    "\n",
    "print(str(mse_arr[0]) + '\\t' + str(mse_arr[1]) + '\\t' + str(mse_arr[2]))"
   ]
  },
  {
   "cell_type": "code",
   "execution_count": 17,
   "metadata": {},
   "outputs": [],
   "source": [
    "from PIL import Image\n",
    "import os\n",
    "\n",
    "folder_name = \"wc_approx4x\"\n",
    "os.makedirs(folder_name + \"_jpg\", exist_ok=True) # ①\n",
    "for file in os.listdir(folder_name): # ②\n",
    "    l = len(file)\n",
    "    name = file[: l - 4]\n",
    "    extension = file[l - 3:]\n",
    "    if extension == \"tga\": # ④\n",
    "        img = Image.open(folder_name + \"/\" + file) # ⑤\n",
    "        if img.mode != \"RGB\": # ☆\n",
    "            img = img.convert(\"RGB\")\n",
    "        img.save(folder_name + \"_jpg/\" + name + \".jpg\") # ⑥"
   ]
  }
 ],
 "metadata": {
  "colab": {
   "provenance": []
  },
  "kernelspec": {
   "display_name": "Python 3",
   "name": "python3"
  },
  "language_info": {
   "codemirror_mode": {
    "name": "ipython",
    "version": 3
   },
   "file_extension": ".py",
   "mimetype": "text/x-python",
   "name": "python",
   "nbconvert_exporter": "python",
   "pygments_lexer": "ipython3",
   "version": "3.12.4"
  }
 },
 "nbformat": 4,
 "nbformat_minor": 0
}
