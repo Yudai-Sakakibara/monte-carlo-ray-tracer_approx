{
  "cells": [
    {
      "cell_type": "code",
      "execution_count": 1,
      "metadata": {},
      "outputs": [],
      "source": [
        "# 必要ライブラリのインストール\n",
        "from PIL import Image\n",
        "import numpy as np"
      ]
    },
    {
      "cell_type": "code",
      "execution_count": 2,
      "metadata": {},
      "outputs": [],
      "source": [
        "def myssim(x, y):\n",
        "    l = len(x)\n",
        "    mu_x = np.average(x)\n",
        "    mu_y = np.average(y)\n",
        "    sigma_x = np.std(x)\n",
        "    sigma_y = np.std(y)\n",
        "    cov_xy = np.cov(x, y)[0][1] * (l - 1) / l\n",
        "    C1 = (0.01 * 255) * (0.01 * 255)\n",
        "    C2 = (0.03 * 255) * (0.03 * 255)\n",
        "    P = (2 * mu_x * mu_y + C1) * (2 * cov_xy + C2)\n",
        "    Q = (mu_x * mu_x + mu_y * mu_y + C1) * (sigma_x * sigma_x + sigma_y * sigma_y + C2)\n",
        "    return P / Q"
      ]
    },
    {
      "cell_type": "code",
      "execution_count": 11,
      "metadata": {},
      "outputs": [],
      "source": [
        "def MSE(x, y):\n",
        "    l = len(x)\n",
        "    sum = 0.0\n",
        "    for i in range(l):\n",
        "        diff = float(x[i]) - float(y[i])\n",
        "        sum += (diff * diff)\n",
        "    return sum / l"
      ]
    },
    {
      "cell_type": "code",
      "execution_count": 20,
      "metadata": {},
      "outputs": [
        {
          "name": "stdout",
          "output_type": "stream",
          "text": [
            "SSIM (Red):   0.9374349976843053\n",
            "SSIM (Green): 0.9268207859689038\n",
            "SSIM (Blue):  0.939457937480944\n",
            "SSIM (Gray):  0.9308861143405642\n",
            "0.9374349976843053\n",
            "0.9268207859689038\n",
            "0.939457937480944\n",
            "0.9308861143405642\n",
            "MSE 165.340899\n"
          ]
        }
      ],
      "source": [
        "img1 = Image.open('wc_IS/wc_008_0.8_dv.tga')\n",
        "img2 = Image.open('water_caustics/BsagYAi_2.tga')\n",
        "color = ['(Red):   ', '(Green): ', '(Blue):  ', '(Gray):  ']\n",
        "ssim_arr = [0.0] * 4\n",
        "\n",
        "for i in range(3):\n",
        "    img1_arr = np.array(img1)[:, :, i].reshape(-1)\n",
        "    img2_arr = np.array(img2)[:, :, i].reshape(-1)\n",
        "    ssim_arr[i] = myssim(img1_arr, img2_arr)\n",
        "\n",
        "img1_gray = img1.convert('L')\n",
        "img2_gray = img2.convert('L')\n",
        "img1_gray_arr = np.array(img1_gray).reshape(-1)\n",
        "img2_gray_arr = np.array(img2_gray).reshape(-1)\n",
        "ssim_arr[3] = myssim(img1_gray_arr, img2_gray_arr)\n",
        "\n",
        "for i in range(4):\n",
        "    print('SSIM ' + color[i] + str(ssim_arr[i]))\n",
        "\n",
        "for i in range(4):\n",
        "    print(ssim_arr[i])\n",
        "\n",
        "print('MSE ' + str(MSE(img1_gray_arr, img2_gray_arr)))"
      ]
    },
    {
      "cell_type": "code",
      "execution_count": 51,
      "metadata": {},
      "outputs": [
        {
          "name": "stderr",
          "output_type": "stream",
          "text": [
            "C:\\Users\\sakakibara.MTL\\AppData\\Local\\Temp\\ipykernel_66740\\367225793.py:5: RuntimeWarning: overflow encountered in scalar multiply\n",
            "  res += ((x[i] - y[i]) * (x[i] - y[i]))\n",
            "C:\\Users\\sakakibara.MTL\\AppData\\Local\\Temp\\ipykernel_66740\\367225793.py:5: RuntimeWarning: overflow encountered in scalar subtract\n",
            "  res += ((x[i] - y[i]) * (x[i] - y[i]))\n"
          ]
        },
        {
          "data": {
            "text/plain": [
              "44.107936"
            ]
          },
          "execution_count": 51,
          "metadata": {},
          "output_type": "execute_result"
        }
      ],
      "source": [
        "MSE(img1_gray_arr, img2_gray_arr)"
      ]
    },
    {
      "cell_type": "code",
      "execution_count": 52,
      "metadata": {},
      "outputs": [
        {
          "data": {
            "text/plain": [
              "(1000, 1000, 3)"
            ]
          },
          "execution_count": 52,
          "metadata": {},
          "output_type": "execute_result"
        }
      ],
      "source": [
        "imgx = Image.open('TGA/water_caustics001.tga')\n",
        "np.array(imgx).shape"
      ]
    }
  ],
  "metadata": {
    "colab": {
      "provenance": []
    },
    "kernelspec": {
      "display_name": "Python 3",
      "name": "python3"
    },
    "language_info": {
      "codemirror_mode": {
        "name": "ipython",
        "version": 3
      },
      "file_extension": ".py",
      "mimetype": "text/x-python",
      "name": "python",
      "nbconvert_exporter": "python",
      "pygments_lexer": "ipython3",
      "version": "3.12.4"
    }
  },
  "nbformat": 4,
  "nbformat_minor": 0
}
