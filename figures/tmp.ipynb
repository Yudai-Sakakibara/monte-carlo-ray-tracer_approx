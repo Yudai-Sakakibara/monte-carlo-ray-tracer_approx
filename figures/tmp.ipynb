{
  "cells": [
    {
      "cell_type": "code",
      "execution_count": 1,
      "metadata": {},
      "outputs": [],
      "source": [
        "# 必要ライブラリのインストール\n",
        "from PIL import Image\n",
        "import numpy as np"
      ]
    },
    {
      "cell_type": "code",
      "execution_count": 2,
      "metadata": {},
      "outputs": [],
      "source": [
        "def myssim(x, y):\n",
        "    l = len(x)\n",
        "    mu_x = np.average(x)\n",
        "    mu_y = np.average(y)\n",
        "    sigma_x = np.std(x)\n",
        "    sigma_y = np.std(y)\n",
        "    cov_xy = np.cov(x, y)[0][1] * (l - 1) / l\n",
        "    C1 = (0.01 * 255) * (0.01 * 255)\n",
        "    C2 = (0.03 * 255) * (0.03 * 255)\n",
        "    P = (2 * mu_x * mu_y + C1) * (2 * cov_xy + C2)\n",
        "    Q = (mu_x * mu_x + mu_y * mu_y + C1) * (sigma_x * sigma_x + sigma_y * sigma_y + C2)\n",
        "    return P / Q"
      ]
    },
    {
      "cell_type": "code",
      "execution_count": 5,
      "metadata": {},
      "outputs": [
        {
          "name": "stdout",
          "output_type": "stream",
          "text": [
            "0\n",
            "51\n",
            "2466\n",
            "7542\n",
            "27932\n",
            "69341\n",
            "98678\n",
            "94587\n",
            "108536\n",
            "67849\n",
            "51820\n",
            "56244\n",
            "46600\n",
            "32523\n",
            "19253\n",
            "7778\n"
          ]
        }
      ],
      "source": [
        "img1 = Image.open('c1b/c1b_004_black_half.tga')\n",
        "img1_gray = img1.convert('L')\n",
        "img1_gray_arr = np.array(img1_gray).reshape(-1)\n",
        "cnt = [0] * 16\n",
        "for v in img1_gray_arr:\n",
        "    cnt[v // 16] += 1\n",
        "for i in range(16):\n",
        "    print(cnt[i])"
      ]
    },
    {
      "cell_type": "code",
      "execution_count": 52,
      "metadata": {},
      "outputs": [
        {
          "data": {
            "text/plain": [
              "(1000, 1000, 3)"
            ]
          },
          "execution_count": 52,
          "metadata": {},
          "output_type": "execute_result"
        }
      ],
      "source": [
        "imgx = Image.open('TGA/water_caustics001.tga')\n",
        "np.array(imgx).shape"
      ]
    }
  ],
  "metadata": {
    "colab": {
      "provenance": []
    },
    "kernelspec": {
      "display_name": "Python 3",
      "name": "python3"
    },
    "language_info": {
      "codemirror_mode": {
        "name": "ipython",
        "version": 3
      },
      "file_extension": ".py",
      "mimetype": "text/x-python",
      "name": "python",
      "nbconvert_exporter": "python",
      "pygments_lexer": "ipython3",
      "version": "3.12.4"
    }
  },
  "nbformat": 4,
  "nbformat_minor": 0
}
