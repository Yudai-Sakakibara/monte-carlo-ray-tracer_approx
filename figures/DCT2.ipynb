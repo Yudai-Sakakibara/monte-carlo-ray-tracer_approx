{
 "cells": [
  {
   "cell_type": "code",
   "execution_count": 80,
   "metadata": {},
   "outputs": [],
   "source": [
    "# 必要ライブラリのインストール\n",
    "from PIL import Image\n",
    "import numpy as np"
   ]
  },
  {
   "cell_type": "code",
   "execution_count": 81,
   "metadata": {},
   "outputs": [],
   "source": [
    "def MSE(x, y):\n",
    "    l = len(x)\n",
    "    sum = 0.0\n",
    "    for i in range(l):\n",
    "        diff = float(x[i]) - float(y[i])\n",
    "        sum += (diff * diff)\n",
    "    return sum / l"
   ]
  },
  {
   "cell_type": "code",
   "execution_count": 82,
   "metadata": {},
   "outputs": [],
   "source": [
    "img1 = Image.open('ref/c1b_ref.tga')\n",
    "img2 = Image.open('c1b_approx2/c1b_16_16_0.5_16_2.tga')\n",
    "img1_gray = img1.convert('L')\n",
    "img2_gray = img2.convert('L')\n",
    "img1_gray_arr = np.array(img1_gray)\n",
    "img2_gray_arr = np.array(img2_gray)"
   ]
  },
  {
   "cell_type": "code",
   "execution_count": 100,
   "metadata": {},
   "outputs": [],
   "source": [
    "def phi(k, N):\n",
    "\tif k == 0:\n",
    "\t\treturn np.ones(N) / np.sqrt(N)\n",
    "\telse:\n",
    "\t\treturn np.sqrt(2.0 / N) * np.cos((k * np.pi / (2 * N)) * (np.arange(N) * 2 + 1))\n",
    "\n",
    "def DCT_mat_reducedto1d(N):\n",
    "\tphi_1d = np.array([phi(k, N) for k in range(N)])\n",
    "\tphi_2d = np.zeros((N,N,N,N))\n",
    "\t\n",
    "\tfor i in range(N):\n",
    "\t\tfor j in range(N):\n",
    "\t\t\tphi_i, phi_j = np.meshgrid(phi_1d[i], phi_1d[j])\n",
    "\t\t\tphi_2d[i, j] = phi_i*phi_j\n",
    "\t\t\t\n",
    "\treturn phi_2d.reshape(N * N, N * N)\n",
    "\n",
    "def DCT_mat_jpg():\n",
    "\tDCT_mat = DCT_mat_element_product(8)\n",
    "\tres = []\n",
    "\tfor i in range(8):\n",
    "\t\tfor j in range(8):\n",
    "\t\t\tcond = (i == 0) or (j == 0) or (i + j <= 4)\n",
    "\t\t\tif cond: res.append(DCT_mat[i * 8 + j])\n",
    "\treturn np.array(res)"
   ]
  },
  {
   "cell_type": "code",
   "execution_count": 101,
   "metadata": {},
   "outputs": [],
   "source": [
    "def DCT_mat_jpg2():\n",
    "\tres = DCT_mat_reducedto1d(8)\n",
    "\tfor i in range(8):\n",
    "\t\tfor j in range(8):\n",
    "\t\t\tcond = (i == 0) or (j == 0) or (i + j <= 4)\n",
    "\t\t\tif not cond:\n",
    "\t\t\t\tfor k in range(64): res[i * 8 + j, k] = 0.0\n",
    "\treturn res"
   ]
  },
  {
   "cell_type": "code",
   "execution_count": 84,
   "metadata": {},
   "outputs": [],
   "source": [
    "C = DCT_mat_jpg()\n",
    "D = C * C\n",
    "\n",
    "def var_ac_coef(sample_ratio):\n",
    "    return np.sum(D.dot(1.0 / sample_ratio))"
   ]
  },
  {
   "cell_type": "code",
   "execution_count": 118,
   "metadata": {},
   "outputs": [],
   "source": [
    "C2 = DCT_mat_reducedto1d(8).T.dot(DCT_mat_jpg2())\n",
    "D2 = C2 * C2\n",
    "\n",
    "def var_ac_coef2(sample_ratio):\n",
    "    return np.sum(D2.dot(1.0 / sample_ratio))"
   ]
  },
  {
   "cell_type": "code",
   "execution_count": 123,
   "metadata": {},
   "outputs": [
    {
     "name": "stdout",
     "output_type": "stream",
     "text": [
      "10000\n",
      "20000\n",
      "30000\n",
      "40000\n",
      "50000\n",
      "60000\n",
      "70000\n",
      "80000\n",
      "90000\n",
      "100000\n",
      "110000\n",
      "120000\n",
      "130000\n",
      "140000\n",
      "150000\n",
      "160000\n",
      "170000\n",
      "180000\n",
      "190000\n",
      "200000\n",
      "210000\n",
      "220000\n",
      "230000\n",
      "240000\n",
      "250000\n",
      "260000\n",
      "270000\n",
      "280000\n",
      "290000\n",
      "300000\n",
      "310000\n",
      "320000\n",
      "330000\n",
      "340000\n",
      "350000\n",
      "360000\n",
      "370000\n",
      "380000\n",
      "390000\n",
      "400000\n",
      "410000\n",
      "420000\n",
      "430000\n",
      "440000\n",
      "450000\n",
      "460000\n",
      "470000\n",
      "480000\n",
      "490000\n",
      "500000\n",
      "510000\n",
      "520000\n",
      "530000\n",
      "540000\n",
      "550000\n",
      "560000\n",
      "570000\n",
      "580000\n",
      "590000\n",
      "600000\n",
      "610000\n",
      "620000\n",
      "630000\n",
      "640000\n",
      "650000\n",
      "660000\n",
      "670000\n",
      "680000\n",
      "690000\n",
      "700000\n",
      "710000\n",
      "720000\n",
      "730000\n",
      "740000\n",
      "750000\n",
      "760000\n",
      "770000\n",
      "780000\n",
      "790000\n",
      "800000\n",
      "810000\n",
      "820000\n",
      "830000\n",
      "840000\n",
      "850000\n",
      "860000\n",
      "870000\n",
      "880000\n",
      "890000\n",
      "900000\n",
      "910000\n",
      "920000\n",
      "930000\n",
      "940000\n",
      "950000\n",
      "960000\n",
      "970000\n",
      "980000\n",
      "990000\n",
      "[0.01981296 0.01646633 0.01636557 0.01633258 0.01633282 0.01636567\n",
      " 0.01646632 0.01981256 0.01646629 0.01452945 0.01501102 0.0148598\n",
      " 0.01486014 0.01501069 0.01452951 0.01646618 0.01636553 0.01501093\n",
      " 0.01460399 0.01417557 0.01417535 0.01460417 0.01501081 0.01636576\n",
      " 0.01633262 0.01485987 0.01417529 0.01463227 0.01463219 0.01417534\n",
      " 0.01486008 0.01633247 0.01633243 0.01485995 0.01417539 0.01463223\n",
      " 0.01463218 0.0141755  0.01485982 0.01633264 0.01636565 0.01501081\n",
      " 0.01460432 0.01417537 0.01417531 0.01460408 0.0150112  0.01636558\n",
      " 0.01646631 0.01452932 0.01501107 0.01486002 0.0148599  0.01501116\n",
      " 0.01452922 0.01646636 0.01981256 0.0164663  0.01636527 0.01633261\n",
      " 0.01633274 0.0163657  0.0164663  0.01981254]\n"
     ]
    }
   ],
   "source": [
    "import random\n",
    "\n",
    "alpha = 0.5 # ratio of praparation\n",
    "N = 10 ** 6 # number of iteration\n",
    "eps = 10 ** (-6)\n",
    "arr1 = np.array([alpha / 64.0] * 64)\n",
    "arr2 = np.array([(1.0 - alpha) / 64.0] * 64)\n",
    "\n",
    "for itr in range(1, N):\n",
    "    i = random.randrange(64)\n",
    "    j = random.randrange(63)\n",
    "    if j >= i: j += 1\n",
    "\n",
    "    sum = arr2[i] + arr2[j]\n",
    "    left = 0\n",
    "    right = sum\n",
    "\n",
    "    while right - left >= eps:\n",
    "        d = right - left\n",
    "        c1 = left + d / 3.0\n",
    "        c2 = right - d / 3.0\n",
    "\n",
    "        arr2[i] = c1\n",
    "        arr2[j] = sum - c1\n",
    "        val1 = var_ac_coef2(arr1 + arr2)\n",
    "\n",
    "        arr2[i] = c2\n",
    "        arr2[j] = sum - c2\n",
    "        val2 = var_ac_coef2(arr1 + arr2)\n",
    "\n",
    "        if val1 < val2: right = c2\n",
    "        else: left = c1\n",
    "    \n",
    "    arr2[i] = (left + right) / 2.0\n",
    "    arr2[j] = sum - arr2[i]\n",
    "\n",
    "    if itr % 10000 == 0: print(itr)\n",
    "\n",
    "arr3 = arr1 + arr2\n",
    "print(arr3)"
   ]
  },
  {
   "cell_type": "code",
   "execution_count": 125,
   "metadata": {},
   "outputs": [
    {
     "name": "stdout",
     "output_type": "stream",
     "text": [
      "normal: 20.99999999999999\n",
      "opt:    20.83779711687421\n"
     ]
    }
   ],
   "source": [
    "arr10 = np.array([alpha / 64.0] * 64)\n",
    "arr20 = np.array([(1.0 - alpha) / 64.0] * 64)\n",
    "arr30 = arr10 + arr20\n",
    "print('normal: ' + str(var_ac_coef2(arr30) / 64.0))\n",
    "print('opt:    ' + str(var_ac_coef2(arr3) / 64.0))"
   ]
  },
  {
   "cell_type": "code",
   "execution_count": 105,
   "metadata": {},
   "outputs": [],
   "source": [
    "def dHondt_method(n_votes, r):\n",
    "    # n_votes:票数　r:当選数\n",
    "    h = np.zeros_like(n_votes)  # 配分（最初はすべて0）\n",
    "    for _ in range(r):\n",
    "        a = n_votes / (h + 1)\n",
    "        h[np.argmax(a)] += 1\n",
    "    return h.astype('int')"
   ]
  },
  {
   "cell_type": "code",
   "execution_count": 127,
   "metadata": {},
   "outputs": [
    {
     "name": "stdout",
     "output_type": "stream",
     "text": [
      "126803\t105385\t104740\t104529\t104530\t104740\t105384\t126801\t\n",
      "105384\t92988\t96070\t95103\t95105\t96068\t92989\t105384\t\n",
      "104739\t96070\t93465\t90724\t90722\t93467\t96069\t104741\t\n",
      "104529\t95103\t90722\t93646\t93646\t90722\t95104\t104528\t\n",
      "104528\t95104\t90722\t93646\t93646\t90723\t95103\t104529\t\n",
      "104740\t96069\t93468\t90722\t90722\t93466\t96072\t104740\t\n",
      "105384\t92988\t96071\t95104\t95103\t96071\t92987\t105385\t\n",
      "126801\t105384\t104738\t104529\t104530\t104741\t105384\t126800\t\n"
     ]
    }
   ],
   "source": [
    "arr4 = dHondt_method(arr3, 100000 * 64)\n",
    "arr5 = arr4.reshape(8, 8)\n",
    "for i in range(8):\n",
    "    for j in range(8):\n",
    "        print(arr5[i, j], end = '\\t')\n",
    "    print('')"
   ]
  },
  {
   "cell_type": "code",
   "execution_count": 69,
   "metadata": {},
   "outputs": [
    {
     "data": {
      "text/plain": [
       "array([12, -8,  5])"
      ]
     },
     "execution_count": 69,
     "metadata": {},
     "output_type": "execute_result"
    }
   ],
   "source": [
    "np.array([12, -8, 5])"
   ]
  }
 ],
 "metadata": {
  "colab": {
   "provenance": []
  },
  "kernelspec": {
   "display_name": "Python 3",
   "name": "python3"
  },
  "language_info": {
   "codemirror_mode": {
    "name": "ipython",
    "version": 3
   },
   "file_extension": ".py",
   "mimetype": "text/x-python",
   "name": "python",
   "nbconvert_exporter": "python",
   "pygments_lexer": "ipython3",
   "version": "3.12.4"
  }
 },
 "nbformat": 4,
 "nbformat_minor": 0
}
