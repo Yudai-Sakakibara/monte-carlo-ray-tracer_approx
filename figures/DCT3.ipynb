{
 "cells": [
  {
   "cell_type": "code",
   "execution_count": 2,
   "metadata": {},
   "outputs": [],
   "source": [
    "# 必要ライブラリのインストール\n",
    "from PIL import Image\n",
    "import numpy as np"
   ]
  },
  {
   "cell_type": "code",
   "execution_count": 1,
   "metadata": {},
   "outputs": [],
   "source": [
    "def MSE(x, y):\n",
    "    l = len(x)\n",
    "    sum = 0.0\n",
    "    for i in range(l):\n",
    "        diff = float(x[i]) - float(y[i])\n",
    "        sum += (diff * diff)\n",
    "    return sum / l"
   ]
  },
  {
   "cell_type": "code",
   "execution_count": 3,
   "metadata": {},
   "outputs": [],
   "source": [
    "def phi(k, N):\n",
    "\tif k == 0:\n",
    "\t\treturn np.ones(N) / np.sqrt(N)\n",
    "\telse:\n",
    "\t\treturn np.sqrt(2.0 / N) * np.cos((k * np.pi / (2 * N)) * (np.arange(N) * 2 + 1))\n",
    "\n",
    "def DCT_mat_reducedto1d(N):\n",
    "\tphi_1d = np.array([phi(k, N) for k in range(N)])\n",
    "\tphi_2d = np.zeros((N,N,N,N))\n",
    "\t\n",
    "\tfor i in range(N):\n",
    "\t\tfor j in range(N):\n",
    "\t\t\tphi_i, phi_j = np.meshgrid(phi_1d[i], phi_1d[j])\n",
    "\t\t\tphi_2d[i, j] = phi_i*phi_j\n",
    "\t\t\t\n",
    "\treturn phi_2d.reshape(N * N, N * N)\n",
    "\n",
    "def DCT_mat_jpg():\n",
    "\tDCT_mat = DCT_mat_reducedto1d(8)\n",
    "\tres = []\n",
    "\tfor i in range(8):\n",
    "\t\tfor j in range(8):\n",
    "\t\t\tcond = (i == 0) or (j == 0) or (i + j <= 4)\n",
    "\t\t\tif cond: res.append(DCT_mat[i * 8 + j])\n",
    "\treturn np.array(res)"
   ]
  },
  {
   "cell_type": "code",
   "execution_count": 4,
   "metadata": {},
   "outputs": [],
   "source": [
    "def DCT_mat_jpg2():\n",
    "\tres = DCT_mat_reducedto1d(8)\n",
    "\tfor i in range(8):\n",
    "\t\tfor j in range(8):\n",
    "\t\t\tcond = (i == 0) or (j == 0) or (i + j <= 4)\n",
    "\t\t\tif not cond:\n",
    "\t\t\t\tfor k in range(64): res[i * 8 + j, k] = 0.0\n",
    "\treturn res"
   ]
  },
  {
   "cell_type": "code",
   "execution_count": 7,
   "metadata": {},
   "outputs": [],
   "source": [
    "C0 = DCT_mat_reducedto1d(8)\n",
    "C1 = DCT_mat_jpg2()\n",
    "D = C0.T.dot(C1)\n",
    "D2 = D * D\n",
    "n = np.ones(64)\n",
    "E = n.dot(D2)\n",
    "sum = np.sum(np.sqrt(E))\n",
    "n_all = 1.0 * 64\n",
    "n_list = n_all * np.sqrt(E) / sum\n",
    "n_mat = n_list.reshape(8, 8)"
   ]
  },
  {
   "cell_type": "code",
   "execution_count": 8,
   "metadata": {},
   "outputs": [
    {
     "name": "stdout",
     "output_type": "stream",
     "text": [
      "1.2680148360735704\t1.0538454961871102\t1.0473951275315592\t1.0452840320078582\t1.0452840320078582\t1.0473951275315587\t1.0538454961871102\t1.2680148360735701\t\n",
      "1.0538454961871102\t0.9298825314852177\t0.9607025729571571\t0.951039286889926\t0.951039286889926\t0.9607025729571569\t0.9298825314852175\t1.0538454961871098\t\n",
      "1.047395127531559\t0.9607025729571573\t0.9346623195832181\t0.9072233677531967\t0.9072233677531965\t0.9346623195832178\t0.9607025729571571\t1.0473951275315585\t\n",
      "1.0452840320078582\t0.9510392868899258\t0.9072233677531965\t0.936460546204381\t0.9364605462043812\t0.9072233677531962\t0.9510392868899258\t1.0452840320078578\t\n",
      "1.0452840320078582\t0.9510392868899258\t0.9072233677531965\t0.9364605462043815\t0.9364605462043812\t0.9072233677531962\t0.9510392868899258\t1.0452840320078578\t\n",
      "1.0473951275315585\t0.9607025729571571\t0.9346623195832178\t0.9072233677531965\t0.9072233677531962\t0.9346623195832175\t0.9607025729571569\t1.0473951275315583\t\n",
      "1.05384549618711\t0.9298825314852175\t0.9607025729571571\t0.9510392868899258\t0.9510392868899256\t0.9607025729571569\t0.9298825314852173\t1.0538454961871098\t\n",
      "1.26801483607357\t1.0538454961871098\t1.0473951275315585\t1.0452840320078578\t1.0452840320078578\t1.0473951275315583\t1.0538454961871095\t1.2680148360735697\t\n"
     ]
    }
   ],
   "source": [
    "for i in range(8):\n",
    "    for j in range(8):\n",
    "        print(n_mat[i, j], end = '\\t')\n",
    "    print('')"
   ]
  }
 ],
 "metadata": {
  "colab": {
   "provenance": []
  },
  "kernelspec": {
   "display_name": "Python 3",
   "name": "python3"
  },
  "language_info": {
   "codemirror_mode": {
    "name": "ipython",
    "version": 3
   },
   "file_extension": ".py",
   "mimetype": "text/x-python",
   "name": "python",
   "nbconvert_exporter": "python",
   "pygments_lexer": "ipython3",
   "version": "3.12.4"
  }
 },
 "nbformat": 4,
 "nbformat_minor": 0
}
