{
 "cells": [
  {
   "cell_type": "code",
   "execution_count": 4,
   "metadata": {},
   "outputs": [],
   "source": [
    "# 必要ライブラリのインストール\n",
    "from PIL import Image\n",
    "import numpy as np"
   ]
  },
  {
   "cell_type": "code",
   "execution_count": 5,
   "metadata": {},
   "outputs": [],
   "source": [
    "def MSE(x, y):\n",
    "    l = len(x)\n",
    "    sum = 0.0\n",
    "    for i in range(l):\n",
    "        diff = float(x[i]) - float(y[i])\n",
    "        sum += (diff * diff)\n",
    "    return sum / l"
   ]
  },
  {
   "cell_type": "code",
   "execution_count": 6,
   "metadata": {},
   "outputs": [],
   "source": [
    "def phi(k, N):\n",
    "\tif k == 0:\n",
    "\t\treturn np.ones(N) / np.sqrt(N)\n",
    "\telse:\n",
    "\t\treturn np.sqrt(2.0 / N) * np.cos((k * np.pi / (2 * N)) * (np.arange(N) * 2 + 1))\n",
    "\n",
    "def DCT_mat_reducedto1d(N):\n",
    "\tphi_1d = np.array([phi(k, N) for k in range(N)])\n",
    "\tphi_2d = np.zeros((N,N,N,N))\n",
    "\t\n",
    "\tfor i in range(N):\n",
    "\t\tfor j in range(N):\n",
    "\t\t\tphi_i, phi_j = np.meshgrid(phi_1d[i], phi_1d[j])\n",
    "\t\t\tphi_2d[i, j] = phi_i*phi_j\n",
    "\t\t\t\n",
    "\treturn phi_2d.reshape(N * N, N * N)\n",
    "\n",
    "def DCT_mat_jpg():\n",
    "\tDCT_mat = DCT_mat_reducedto1d(8)\n",
    "\tres = []\n",
    "\tfor i in range(8):\n",
    "\t\tfor j in range(8):\n",
    "\t\t\tcond = (i == 0) or (j == 0) or (i + j <= 4)\n",
    "\t\t\tif cond: res.append(DCT_mat[i * 8 + j])\n",
    "\treturn np.array(res)"
   ]
  },
  {
   "cell_type": "code",
   "execution_count": 7,
   "metadata": {},
   "outputs": [],
   "source": [
    "def DCT_mat_jpg2():\n",
    "\tres = DCT_mat_reducedto1d(8)\n",
    "\tfor i in range(8):\n",
    "\t\tfor j in range(8):\n",
    "\t\t\tcond = (i == 0) or (j == 0) or (i + j <= 4)\n",
    "\t\t\tif not cond:\n",
    "\t\t\t\tfor k in range(64): res[i * 8 + j, k] = 0.0\n",
    "\treturn res"
   ]
  },
  {
   "cell_type": "code",
   "execution_count": 48,
   "metadata": {},
   "outputs": [],
   "source": [
    "C0 = DCT_mat_reducedto1d(8)\n",
    "C1 = DCT_mat_jpg2()\n",
    "D = C0.T.dot(C1)\n",
    "D2 = D * D\n",
    "n = np.ones(64)\n",
    "E = n.dot(D2)\n",
    "sum = np.sum(np.sqrt(E))\n",
    "n_all = 1.0 * 64\n",
    "n_list = n_all * np.sqrt(E) / sum\n",
    "n_mat = n_list.reshape(8, 8)"
   ]
  },
  {
   "cell_type": "code",
   "execution_count": 49,
   "metadata": {},
   "outputs": [],
   "source": [
    "coef_list = [[[] for x in range(15)] for y in range(15)]\n",
    "for i in range(64):\n",
    "    for j in range(64):\n",
    "        x1 = i % 8\n",
    "        y1 = i // 8\n",
    "        x2 = j % 8\n",
    "        y2 = j // 8\n",
    "        coef_list[x1 - x2 + 7][y1 - y2 + 7].append(D[i, j] * 64)"
   ]
  },
  {
   "cell_type": "code",
   "execution_count": 50,
   "metadata": {},
   "outputs": [],
   "source": [
    "ave_mat = [[0.0 for i in range(15)]for j in range(15)]\n",
    "std_mat = [[0.0 for i in range(15)]for j in range(15)]\n",
    "for i in range(15):\n",
    "    for j in range(15):\n",
    "        ave_mat[i][j] = np.average(coef_list[i][j])\n",
    "        std_mat[i][j] = np.std(coef_list[i][j])"
   ]
  },
  {
   "cell_type": "code",
   "execution_count": 51,
   "metadata": {},
   "outputs": [
    {
     "data": {
      "text/plain": [
       "[33.504294321200284,\n",
       " 23.142255971524566,\n",
       " 22.859825123396952,\n",
       " 22.76776695296637,\n",
       " 22.767766952966365,\n",
       " 22.85982512339695,\n",
       " 23.14225597152457,\n",
       " 33.50429432120028,\n",
       " 23.14225597152457,\n",
       " 18.018058132495753,\n",
       " 19.23223304703363,\n",
       " 18.847281657789594,\n",
       " 18.84728165778959,\n",
       " 19.232233047033628,\n",
       " 18.018058132495753,\n",
       " 23.142255971524563,\n",
       " 22.859825123396952,\n",
       " 19.232233047033628,\n",
       " 18.203767274452222,\n",
       " 17.150637247288884,\n",
       " 17.150637247288884,\n",
       " 18.203767274452215,\n",
       " 19.232233047033628,\n",
       " 22.859825123396945,\n",
       " 22.767766952966365,\n",
       " 18.84728165778959,\n",
       " 17.150637247288884,\n",
       " 18.273880271851738,\n",
       " 18.273880271851738,\n",
       " 17.150637247288884,\n",
       " 18.84728165778959,\n",
       " 22.767766952966358,\n",
       " 22.767766952966365,\n",
       " 18.84728165778959,\n",
       " 17.150637247288884,\n",
       " 18.27388027185174,\n",
       " 18.273880271851738,\n",
       " 17.150637247288884,\n",
       " 18.84728165778959,\n",
       " 22.76776695296636,\n",
       " 22.859825123396945,\n",
       " 19.232233047033624,\n",
       " 18.203767274452215,\n",
       " 17.150637247288884,\n",
       " 17.15063724728888,\n",
       " 18.20376727445221,\n",
       " 19.232233047033624,\n",
       " 22.85982512339694,\n",
       " 23.142255971524566,\n",
       " 18.018058132495753,\n",
       " 19.232233047033628,\n",
       " 18.84728165778959,\n",
       " 18.847281657789587,\n",
       " 19.232233047033624,\n",
       " 18.018058132495753,\n",
       " 23.14225597152456,\n",
       " 33.50429432120027,\n",
       " 23.14225597152456,\n",
       " 22.859825123396945,\n",
       " 22.767766952966358,\n",
       " 22.767766952966358,\n",
       " 22.85982512339694,\n",
       " 23.14225597152456,\n",
       " 33.50429432120027]"
      ]
     },
     "execution_count": 51,
     "metadata": {},
     "output_type": "execute_result"
    }
   ],
   "source": [
    "coef_list[7][7]"
   ]
  },
  {
   "cell_type": "code",
   "execution_count": 53,
   "metadata": {},
   "outputs": [
    {
     "name": "stdout",
     "output_type": "stream",
     "text": [
      "4\t1\t-1\t0\t1\t0\t-3\t3\t-3\t0\t1\t0\t-1\t1\t4\t\n",
      "1\t-1\t-2\t0\t1\t0\t-2\t4\t-2\t0\t1\t0\t-2\t-1\t1\t\n",
      "-1\t-2\t-1\t1\t1\t0\t-3\t4\t-3\t0\t1\t1\t-1\t-2\t-1\t\n",
      "0\t0\t1\t1\t1\t-1\t-3\t3\t-3\t-1\t1\t1\t1\t0\t0\t\n",
      "1\t1\t1\t1\t0\t-1\t-3\t4\t-3\t-1\t0\t1\t1\t1\t1\t\n",
      "0\t0\t0\t-1\t-1\t-2\t-1\t7\t-1\t-2\t-1\t-1\t0\t0\t0\t\n",
      "-3\t-2\t-3\t-3\t-3\t-1\t1\t11\t1\t-1\t-3\t-3\t-3\t-2\t-3\t\n",
      "3\t4\t4\t3\t4\t7\t11\t21\t11\t7\t4\t3\t4\t4\t3\t\n",
      "-3\t-2\t-3\t-3\t-3\t-1\t1\t11\t1\t-1\t-3\t-3\t-3\t-2\t-3\t\n",
      "0\t0\t0\t-1\t-1\t-2\t-1\t7\t-1\t-2\t-1\t-1\t0\t0\t0\t\n",
      "1\t1\t1\t1\t0\t-1\t-3\t4\t-3\t-1\t0\t1\t1\t1\t1\t\n",
      "0\t0\t1\t1\t1\t-1\t-3\t3\t-3\t-1\t1\t1\t1\t0\t0\t\n",
      "-1\t-2\t-1\t1\t1\t0\t-3\t4\t-3\t0\t1\t1\t-1\t-2\t-1\t\n",
      "1\t-1\t-2\t0\t1\t0\t-2\t4\t-2\t0\t1\t0\t-2\t-1\t1\t\n",
      "4\t1\t-1\t0\t1\t0\t-3\t3\t-3\t0\t1\t0\t-1\t1\t4\t\n"
     ]
    }
   ],
   "source": [
    "for i in range(15):\n",
    "    for j in range(15):\n",
    "        print(round(ave_mat[i][j]), end = '\\t')\n",
    "    print('')"
   ]
  },
  {
   "cell_type": "code",
   "execution_count": 54,
   "metadata": {},
   "outputs": [
    {
     "name": "stdout",
     "output_type": "stream",
     "text": [
      "0\t0\t2\t2\t1\t1\t1\t2\t1\t1\t1\t2\t2\t0\t0\t\n",
      "0\t0\t1\t1\t1\t1\t1\t1\t1\t1\t1\t1\t1\t0\t0\t\n",
      "2\t1\t1\t0\t1\t1\t1\t2\t1\t1\t1\t0\t1\t1\t2\t\n",
      "2\t1\t0\t1\t1\t1\t1\t2\t1\t1\t1\t1\t0\t1\t2\t\n",
      "1\t1\t1\t1\t1\t1\t1\t2\t1\t1\t1\t1\t1\t1\t1\t\n",
      "1\t1\t1\t1\t1\t1\t1\t1\t1\t1\t1\t1\t1\t1\t1\t\n",
      "1\t1\t1\t1\t1\t1\t1\t2\t1\t1\t1\t1\t1\t1\t1\t\n",
      "2\t1\t2\t2\t2\t1\t2\t4\t2\t1\t2\t2\t2\t1\t2\t\n",
      "1\t1\t1\t1\t1\t1\t1\t2\t1\t1\t1\t1\t1\t1\t1\t\n",
      "1\t1\t1\t1\t1\t1\t1\t1\t1\t1\t1\t1\t1\t1\t1\t\n",
      "1\t1\t1\t1\t1\t1\t1\t2\t1\t1\t1\t1\t1\t1\t1\t\n",
      "2\t1\t0\t1\t1\t1\t1\t2\t1\t1\t1\t1\t0\t1\t2\t\n",
      "2\t1\t1\t0\t1\t1\t1\t2\t1\t1\t1\t0\t1\t1\t2\t\n",
      "0\t0\t1\t1\t1\t1\t1\t1\t1\t1\t1\t1\t1\t0\t0\t\n",
      "0\t0\t2\t2\t1\t1\t1\t2\t1\t1\t1\t2\t2\t0\t0\t\n"
     ]
    }
   ],
   "source": [
    "for i in range(15):\n",
    "    for j in range(15):\n",
    "        print(round(std_mat[i][j]), end = '\\t')\n",
    "    print('')"
   ]
  },
  {
   "cell_type": "code",
   "execution_count": 58,
   "metadata": {},
   "outputs": [
    {
     "name": "stdout",
     "output_type": "stream",
     "text": [
      "4\t1\t-1\t0\t1\t0\t-3\t3\t-2\t0\t1\t0\t-1\t1\t5\t\n",
      "1\t-1\t-2\t0\t1\t0\t-2\t4\t-2\t1\t2\t0\t-1\t-1\t1\t\n",
      "-1\t-2\t-1\t1\t1\t0\t-3\t4\t-2\t0\t2\t1\t-1\t-1\t-1\t\n",
      "0\t0\t1\t1\t1\t-1\t-3\t3\t-3\t0\t2\t2\t1\t0\t0\t\n",
      "1\t1\t1\t1\t0\t-1\t-3\t4\t-3\t-1\t1\t2\t2\t2\t1\t\n",
      "0\t0\t0\t-1\t-1\t-2\t-1\t7\t-1\t-1\t-1\t0\t0\t1\t0\t\n",
      "-3\t-2\t-3\t-3\t-3\t-1\t1\t11\t1\t-1\t-3\t-3\t-2\t-2\t-2\t\n",
      "3\t4\t4\t3\t4\t7\t11\t0\t11\t7\t4\t4\t4\t4\t4\t\n",
      "-3\t-2\t-3\t-3\t-3\t-1\t1\t11\t1\t-1\t-3\t-3\t-2\t-2\t-2\t\n",
      "0\t0\t0\t-1\t-1\t-2\t-1\t7\t-1\t-1\t-1\t0\t0\t1\t0\t\n",
      "1\t1\t1\t1\t0\t-1\t-3\t4\t-3\t-1\t1\t2\t2\t2\t1\t\n",
      "0\t0\t1\t1\t1\t-1\t-3\t4\t-3\t0\t2\t2\t1\t0\t0\t\n",
      "-1\t-2\t-1\t1\t1\t0\t-3\t4\t-2\t0\t2\t1\t-1\t-1\t-1\t\n",
      "1\t-1\t-2\t0\t1\t0\t-2\t4\t-2\t1\t2\t0\t-1\t-1\t1\t\n",
      "4\t1\t-1\t0\t1\t0\t-3\t4\t-2\t0\t1\t0\t-1\t1\t5\t\n"
     ]
    }
   ],
   "source": [
    "import copy\n",
    "\n",
    "D_prime = D\n",
    "for i in range(64):\n",
    "    for j in range(64):\n",
    "        if i != j: D_prime[i, j] += (D[i, i] / 63.0)\n",
    "        else: D_prime[i, j] = 0.0\n",
    "\n",
    "coef_list2 = [[[] for x in range(15)] for y in range(15)]\n",
    "for i in range(64):\n",
    "    for j in range(64):\n",
    "        x1 = i % 8\n",
    "        y1 = i // 8\n",
    "        x2 = j % 8\n",
    "        y2 = j // 8\n",
    "        coef_list2[x1 - x2 + 7][y1 - y2 + 7].append(D_prime[i, j] * 64)\n",
    "\n",
    "ave_mat2 = [[0.0 for i in range(15)]for j in range(15)]\n",
    "std_mat2 = [[0.0 for i in range(15)]for j in range(15)]\n",
    "for i in range(15):\n",
    "    for j in range(15):\n",
    "        ave_mat2[i][j] = np.average(coef_list2[i][j])\n",
    "        std_mat2[i][j] = np.std(coef_list2[i][j])\n",
    "\n",
    "for i in range(15):\n",
    "    for j in range(15):\n",
    "        print(round(ave_mat2[i][j]), end = '\\t')\n",
    "    print('')"
   ]
  },
  {
   "cell_type": "code",
   "execution_count": 59,
   "metadata": {},
   "outputs": [
    {
     "name": "stdout",
     "output_type": "stream",
     "text": [
      "0\t0\t2\t2\t1\t1\t1\t2\t1\t1\t1\t1\t2\t0\t0\t\n",
      "0\t0\t1\t1\t1\t1\t1\t1\t1\t1\t1\t1\t1\t0\t0\t\n",
      "2\t1\t1\t0\t1\t1\t1\t2\t1\t1\t1\t1\t1\t1\t2\t\n",
      "2\t1\t0\t1\t1\t1\t1\t2\t1\t1\t1\t1\t1\t1\t1\t\n",
      "1\t1\t1\t1\t1\t1\t1\t2\t1\t1\t1\t1\t1\t1\t1\t\n",
      "1\t1\t1\t1\t1\t1\t1\t1\t1\t1\t1\t1\t1\t1\t1\t\n",
      "1\t1\t1\t1\t1\t1\t1\t2\t1\t1\t1\t1\t1\t1\t1\t\n",
      "2\t1\t2\t2\t2\t1\t2\t0\t2\t1\t2\t2\t1\t1\t2\t\n",
      "1\t1\t1\t1\t1\t1\t1\t2\t1\t1\t1\t1\t1\t1\t1\t\n",
      "1\t1\t1\t1\t1\t1\t1\t1\t1\t1\t1\t1\t1\t1\t1\t\n",
      "1\t1\t1\t1\t1\t1\t1\t2\t1\t1\t1\t1\t1\t1\t1\t\n",
      "2\t1\t0\t1\t1\t1\t1\t2\t1\t1\t1\t1\t1\t1\t1\t\n",
      "2\t1\t1\t0\t1\t1\t1\t1\t1\t1\t1\t1\t1\t1\t2\t\n",
      "0\t0\t1\t1\t1\t1\t1\t1\t1\t1\t1\t1\t1\t0\t0\t\n",
      "0\t0\t2\t2\t1\t1\t1\t2\t1\t1\t1\t1\t2\t0\t0\t\n"
     ]
    }
   ],
   "source": [
    "for i in range(15):\n",
    "    for j in range(15):\n",
    "        print(round(std_mat2[i][j]), end = '\\t')\n",
    "    print('')"
   ]
  }
 ],
 "metadata": {
  "colab": {
   "provenance": []
  },
  "kernelspec": {
   "display_name": "Python 3",
   "name": "python3"
  },
  "language_info": {
   "codemirror_mode": {
    "name": "ipython",
    "version": 3
   },
   "file_extension": ".py",
   "mimetype": "text/x-python",
   "name": "python",
   "nbconvert_exporter": "python",
   "pygments_lexer": "ipython3",
   "version": "3.12.4"
  }
 },
 "nbformat": 4,
 "nbformat_minor": 0
}
