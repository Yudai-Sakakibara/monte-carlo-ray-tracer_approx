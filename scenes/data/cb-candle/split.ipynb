{
 "cells": [
  {
   "cell_type": "code",
   "execution_count": 11,
   "metadata": {},
   "outputs": [],
   "source": [
    "with open('cb-candle.obj') as f1:\n",
    "    lines = f1.read().split(\"\\n\")\n",
    "    n_lines = len(lines)\n",
    "    index_list = []\n",
    "    for i in range(n_lines):\n",
    "        if len(lines[i]) >= 1 and lines[i][0] == 'g': index_list.append(i)\n",
    "    n_index = len(index_list)\n",
    "    for i in range(n_index - 1):\n",
    "        start_line = index_list[i]\n",
    "        end_line = index_list[i + 1]\n",
    "        file_name = lines[start_line][2 :] + '.obj'\n",
    "        f2 = open(file_name, 'w')\n",
    "        for j in range(start_line + 2, end_line):\n",
    "            f2.write(lines[j] + \"\\n\")"
   ]
  }
 ],
 "metadata": {
  "kernelspec": {
   "display_name": "Python 3",
   "language": "python",
   "name": "python3"
  },
  "language_info": {
   "codemirror_mode": {
    "name": "ipython",
    "version": 3
   },
   "file_extension": ".py",
   "mimetype": "text/x-python",
   "name": "python",
   "nbconvert_exporter": "python",
   "pygments_lexer": "ipython3",
   "version": "3.12.4"
  }
 },
 "nbformat": 4,
 "nbformat_minor": 2
}
