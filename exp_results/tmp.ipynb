{
  "cells": [
    {
      "cell_type": "code",
      "execution_count": 1,
      "metadata": {},
      "outputs": [],
      "source": [
        "# 必要ライブラリのインストール\n",
        "from PIL import Image\n",
        "import numpy as np"
      ]
    },
    {
      "cell_type": "code",
      "execution_count": 6,
      "metadata": {},
      "outputs": [
        {
          "data": {
            "text/plain": [
              "array([[146, 157, 169, 157, 149, 135, 122, 125],\n",
              "       [138, 157, 161, 169, 181, 154, 127, 117],\n",
              "       [127, 136, 156, 167, 171, 160, 131, 111],\n",
              "       [122, 136, 149, 145, 138, 147, 144, 120],\n",
              "       [143, 146, 145, 128, 122, 147, 154, 132],\n",
              "       [156, 143, 131, 134, 133, 152, 167, 150],\n",
              "       [160, 132, 126, 139, 142, 156, 160, 159],\n",
              "       [145, 127, 127, 141, 141, 154, 157, 171]], dtype=uint8)"
            ]
          },
          "execution_count": 6,
          "metadata": {},
          "output_type": "execute_result"
        }
      ],
      "source": [
        "img1 = Image.open('water_caustics032_3.tga')\n",
        "img1_gray = img1.convert('L')\n",
        "img1_gray_arr = np.array(img1_gray)\n",
        "img1_gray_arr[469:477, 417:425]"
      ]
    },
    {
      "cell_type": "code",
      "execution_count": 52,
      "metadata": {},
      "outputs": [
        {
          "data": {
            "text/plain": [
              "(1000, 1000, 3)"
            ]
          },
          "execution_count": 52,
          "metadata": {},
          "output_type": "execute_result"
        }
      ],
      "source": [
        "imgx = Image.open('TGA/water_caustics001.tga')\n",
        "np.array(imgx).shape"
      ]
    }
  ],
  "metadata": {
    "colab": {
      "provenance": []
    },
    "kernelspec": {
      "display_name": "Python 3",
      "name": "python3"
    },
    "language_info": {
      "codemirror_mode": {
        "name": "ipython",
        "version": 3
      },
      "file_extension": ".py",
      "mimetype": "text/x-python",
      "name": "python",
      "nbconvert_exporter": "python",
      "pygments_lexer": "ipython3",
      "version": "3.12.4"
    }
  },
  "nbformat": 4,
  "nbformat_minor": 0
}
