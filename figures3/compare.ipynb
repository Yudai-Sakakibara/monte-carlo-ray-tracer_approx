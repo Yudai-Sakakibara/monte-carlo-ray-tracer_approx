{
 "cells": [
  {
   "cell_type": "code",
   "execution_count": 5,
   "metadata": {},
   "outputs": [],
   "source": [
    "# 必要ライブラリのインストール\n",
    "from PIL import Image\n",
    "import numpy as np\n",
    "import os"
   ]
  },
  {
   "cell_type": "code",
   "execution_count": 2,
   "metadata": {},
   "outputs": [],
   "source": [
    "def MSE(x, y):\n",
    "    l = len(x)\n",
    "    sum = 0.0\n",
    "    for i in range(l):\n",
    "        diff = float(x[i]) - float(y[i])\n",
    "        sum += (diff * diff)\n",
    "    return sum / l"
   ]
  },
  {
   "cell_type": "code",
   "execution_count": 3,
   "metadata": {},
   "outputs": [],
   "source": [
    "def print_MSEs(img1, img2):\n",
    "    MSE_arr = [0.0] * 4\n",
    "    for i in range(3):\n",
    "        img1_arr = np.array(img1)[:, :, i].reshape(-1)\n",
    "        img2_arr = np.array(img2)[:, :, i].reshape(-1)\n",
    "        MSE_arr[i] = MSE(img1_arr, img2_arr)\n",
    "    img1_gray = img1.convert('L')\n",
    "    img2_gray = img2.convert('L')\n",
    "    img1_gray_arr = np.array(img1_gray).reshape(-1)\n",
    "    img2_gray_arr = np.array(img2_gray).reshape(-1)\n",
    "    MSE_arr[3] = MSE(img1_gray_arr, img2_gray_arr)\n",
    "    print(str(MSE_arr[0]) + '\\t' + str(MSE_arr[1]) + '\\t' + str(MSE_arr[2]) + '\\t' + str(MSE_arr[3]))"
   ]
  },
  {
   "cell_type": "code",
   "execution_count": 9,
   "metadata": {},
   "outputs": [
    {
     "name": "stdout",
     "output_type": "stream",
     "text": [
      "80.24373372395833\t83.65055338541667\t84.04500325520833\t76.376220703125\n",
      "78.85774739583333\t76.239013671875\t77.4765625\t71.31193033854167\n",
      "87.80224609375\t91.70694986979167\t93.17399088541667\t84.30550130208333\n",
      "88.34855143229167\t93.86165364583333\t97.59977213541667\t85.19889322916667\n",
      "79.14436848958333\t72.445068359375\t73.58837890625\t68.05338541666667\n",
      "75.24137369791667\t75.03955078125\t76.80867513020833\t69.01668294270833\n",
      "104.97135416666667\t103.976318359375\t104.99796549479167\t96.90470377604167\n",
      "91.66593424479167\t93.51863606770833\t95.40641276041667\t85.14192708333333\n",
      "96.22509765625\t91.07389322916667\t92.70963541666667\t85.26180013020833\n",
      "86.82364908854167\t87.60066731770833\t89.58056640625\t80.48738606770833\n",
      "93.89680989583333\t98.518310546875\t100.82747395833333\t89.40584309895833\n",
      "104.021240234375\t100.48006184895833\t102.781005859375\t94.23095703125\n",
      "90.54402669270833\t85.43644205729167\t84.89591471354167\t79.52986653645833\n",
      "99.84798177083333\t100.49088541666667\t104.31722005208333\t92.73828125\n",
      "109.04581705729167\t108.40763346354167\t108.330810546875\t100.55110677083333\n",
      "88.80989583333333\t94.10400390625\t99.28556315104167\t85.557861328125\n",
      "101.286865234375\t106.40738932291667\t107.79646809895833\t96.408447265625\n"
     ]
    }
   ],
   "source": [
    "img_ref = Image.open('c1b_jpg2/c1b_ref.jpg')\n",
    "for i in range(17):\n",
    "    i_str = str(i)\n",
    "    if i < 10: i_str = '0' + i_str\n",
    "    img_approx = Image.open('c1b_jpg2/c1b_' + i_str +'.jpg')\n",
    "    print_MSEs(img_ref, img_approx)"
   ]
  },
  {
   "cell_type": "code",
   "execution_count": 8,
   "metadata": {},
   "outputs": [],
   "source": [
    "folder_name = \"c1b\"\n",
    "os.makedirs(folder_name + \"_jpg2\", exist_ok=True) # ①\n",
    "for file in os.listdir(folder_name): # ②\n",
    "    l = len(file)\n",
    "    name = file[: l - 4]\n",
    "    extension = file[l - 3:]\n",
    "    if extension == \"tga\": # ④\n",
    "        img = Image.open(folder_name + \"/\" + file) # ⑤\n",
    "        if img.mode != \"RGB\": # ☆\n",
    "            img = img.convert(\"RGB\")\n",
    "        img.save(folder_name + \"_jpg2/\" + name + \".jpg\", 'JPEG', quality=95) # ⑥"
   ]
  },
  {
   "cell_type": "code",
   "execution_count": 19,
   "metadata": {},
   "outputs": [
    {
     "name": "stdout",
     "output_type": "stream",
     "text": [
      "63.05279541015625\t1.9644775390625\t1.2381591796875\n"
     ]
    }
   ],
   "source": [
    "img3 = Image.open('wc/wc_ref.tga')\n",
    "img4 = Image.open('wc/wc_8.tga')\n",
    "img5 = img3.convert('YCbCr')\n",
    "img6 = img4.convert('YCbCr')\n",
    "mse_arr2 = [0.0] * 3\n",
    "for i in range(3):\n",
    "    img5_arr = np.array(img5)[:, :, i].reshape(-1)\n",
    "    img6_arr = np.array(img6)[:, :, i].reshape(-1)\n",
    "    mse_arr2[i] = MSE(img5_arr, img6_arr)\n",
    "print(str(mse_arr2[0]) + '\\t' + str(mse_arr2[1]) + '\\t' + str(mse_arr2[2]))"
   ]
  }
 ],
 "metadata": {
  "colab": {
   "provenance": []
  },
  "kernelspec": {
   "display_name": "Python 3",
   "name": "python3"
  },
  "language_info": {
   "codemirror_mode": {
    "name": "ipython",
    "version": 3
   },
   "file_extension": ".py",
   "mimetype": "text/x-python",
   "name": "python",
   "nbconvert_exporter": "python",
   "pygments_lexer": "ipython3",
   "version": "3.12.4"
  }
 },
 "nbformat": 4,
 "nbformat_minor": 0
}
