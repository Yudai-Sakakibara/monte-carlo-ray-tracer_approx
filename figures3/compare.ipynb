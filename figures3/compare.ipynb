{
 "cells": [
  {
   "cell_type": "code",
   "execution_count": 10,
   "metadata": {},
   "outputs": [],
   "source": [
    "# 必要ライブラリのインストール\n",
    "from PIL import Image\n",
    "import numpy as np\n",
    "import os"
   ]
  },
  {
   "cell_type": "code",
   "execution_count": 2,
   "metadata": {},
   "outputs": [],
   "source": [
    "def MSE(x, y):\n",
    "    l = len(x)\n",
    "    sum = 0.0\n",
    "    for i in range(l):\n",
    "        diff = float(x[i]) - float(y[i])\n",
    "        sum += (diff * diff)\n",
    "    return sum / l"
   ]
  },
  {
   "cell_type": "code",
   "execution_count": 3,
   "metadata": {},
   "outputs": [],
   "source": [
    "def print_MSEs(img1, img2):\n",
    "    MSE_arr = [0.0] * 4\n",
    "    for i in range(3):\n",
    "        img1_arr = np.array(img1)[:, :, i].reshape(-1)\n",
    "        img2_arr = np.array(img2)[:, :, i].reshape(-1)\n",
    "        MSE_arr[i] = MSE(img1_arr, img2_arr)\n",
    "    img1_gray = img1.convert('L')\n",
    "    img2_gray = img2.convert('L')\n",
    "    img1_gray_arr = np.array(img1_gray).reshape(-1)\n",
    "    img2_gray_arr = np.array(img2_gray).reshape(-1)\n",
    "    MSE_arr[3] = MSE(img1_gray_arr, img2_gray_arr)\n",
    "    print(str(MSE_arr[0]) + '\\t' + str(MSE_arr[1]) + '\\t' + str(MSE_arr[2]) + '\\t' + str(MSE_arr[3]))"
   ]
  },
  {
   "cell_type": "code",
   "execution_count": 12,
   "metadata": {},
   "outputs": [
    {
     "name": "stdout",
     "output_type": "stream",
     "text": [
      "197.71902465820312\t154.4909210205078\t107.02279663085938\t158.4339599609375\n",
      "183.02407836914062\t140.25965881347656\t97.59075927734375\t144.81236267089844\n",
      "209.7223358154297\t173.27703857421875\t130.0902557373047\t175.7119140625\n",
      "185.69998168945312\t142.2206268310547\t98.87734985351562\t146.727294921875\n",
      "185.11630249023438\t142.4042510986328\t98.89991760253906\t146.75888061523438\n",
      "183.82469177246094\t140.57666015625\t97.29550170898438\t145.0988311767578\n",
      "182.36448669433594\t139.49945068359375\t95.84501647949219\t143.8170623779297\n",
      "226.78192138671875\t191.2728271484375\t144.07762145996094\t192.7790069580078\n",
      "185.31710815429688\t143.25274658203125\t99.21495056152344\t147.23951721191406\n",
      "190.94786071777344\t148.05194091796875\t101.72906494140625\t151.99940490722656\n",
      "240.42332458496094\t204.30532836914062\t153.1199188232422\t205.3385772705078\n",
      "189.0799560546875\t146.3778533935547\t101.65513610839844\t150.36227416992188\n",
      "200.05296325683594\t156.49844360351562\t107.57037353515625\t160.17233276367188\n",
      "185.8782196044922\t140.84634399414062\t94.54698181152344\t145.14207458496094\n",
      "203.34512329101562\t158.94956970214844\t108.90681457519531\t162.56137084960938\n",
      "210.05833435058594\t165.2017059326172\t113.37095642089844\t168.57577514648438\n",
      "190.58819580078125\t143.4266357421875\t95.69462585449219\t147.7991180419922\n"
     ]
    }
   ],
   "source": [
    "img_ref = Image.open('wc/wc_ref.tga')\n",
    "for i in range(17):\n",
    "    i_str = str(i)\n",
    "    if i < 10: i_str = '0' + i_str\n",
    "    img_approx = Image.open('wc/wc_' + i_str +'.tga')\n",
    "    print_MSEs(img_ref, img_approx)"
   ]
  },
  {
   "cell_type": "code",
   "execution_count": 6,
   "metadata": {},
   "outputs": [],
   "source": [
    "folder_name = \"c1b\"\n",
    "os.makedirs(folder_name + \"_jpg2\", exist_ok=True) # ①\n",
    "for file in os.listdir(folder_name): # ②\n",
    "    l = len(file)\n",
    "    name = file[: l - 4]\n",
    "    extension = file[l - 3:]\n",
    "    if extension == \"tga\": # ④\n",
    "        img = Image.open(folder_name + \"/\" + file) # ⑤\n",
    "        if img.mode != \"RGB\": # ☆\n",
    "            img = img.convert(\"RGB\")\n",
    "        img.save(folder_name + \"_jpg2/\" + name + \".jpg\", 'JPEG', quality=95) # ⑥"
   ]
  },
  {
   "cell_type": "code",
   "execution_count": 8,
   "metadata": {},
   "outputs": [],
   "source": [
    "def print_MSEs_YCbCr(img1, img2):\n",
    "    MSE_arr = [0.0] * 3\n",
    "    img1_ycbcr = img1.convert('YCbCr')\n",
    "    img2_ycbcr = img2.convert('YCbCr')\n",
    "    for i in range(3):\n",
    "        img1_arr = np.array(img1_ycbcr)[:, :, i].reshape(-1)\n",
    "        img2_arr = np.array(img2_ycbcr)[:, :, i].reshape(-1)\n",
    "        MSE_arr[i] = MSE(img1_arr, img2_arr)\n",
    "    print(str(MSE_arr[0]) + '\\t' + str(MSE_arr[1]) + '\\t' + str(MSE_arr[2]))"
   ]
  },
  {
   "cell_type": "code",
   "execution_count": 9,
   "metadata": {},
   "outputs": [
    {
     "name": "stdout",
     "output_type": "stream",
     "text": [
      "70.88277180989583\t4.923177083333333\t21.343159993489582\n",
      "70.79471842447917\t4.775288899739583\t21.34747314453125\n",
      "72.37681070963542\t5.1771240234375\t22.889607747395832\n",
      "69.43330891927083\t4.816426595052083\t21.382466634114582\n",
      "65.76517740885417\t5.08587646484375\t21.874796549479168\n",
      "66.61248779296875\t4.847757975260417\t21.61297607421875\n",
      "67.3314208984375\t4.877400716145833\t21.950419108072918\n",
      "69.4300537109375\t4.930623372395833\t21.970499674479168\n",
      "68.63191731770833\t4.710795084635417\t20.99322509765625\n",
      "67.32320149739583\t4.932393391927083\t21.478983561197918\n",
      "69.02815755208333\t5.041585286458333\t21.783426920572918\n",
      "67.69559733072917\t4.955851236979167\t21.511128743489582\n",
      "67.17616780598958\t4.735493977864583\t21.19012451171875\n",
      "69.45068359375\t5.0482177734375\t21.767496744791668\n",
      "67.04876708984375\t4.83526611328125\t20.941162109375\n",
      "67.92047119140625\t5.061625162760417\t22.164388020833332\n",
      "63.894816080729164\t4.827901204427083\t20.487284342447918\n"
     ]
    }
   ],
   "source": [
    "img_ref = Image.open('c1b/c1b_ref.tga')\n",
    "for i in range(17):\n",
    "    i_str = str(i)\n",
    "    if i < 10: i_str = '0' + i_str\n",
    "    img_approx = Image.open('c1b/c1b_' + i_str +'.tga')\n",
    "    print_MSEs_YCbCr(img_ref, img_approx)"
   ]
  }
 ],
 "metadata": {
  "colab": {
   "provenance": []
  },
  "kernelspec": {
   "display_name": "Python 3",
   "name": "python3"
  },
  "language_info": {
   "codemirror_mode": {
    "name": "ipython",
    "version": 3
   },
   "file_extension": ".py",
   "mimetype": "text/x-python",
   "name": "python",
   "nbconvert_exporter": "python",
   "pygments_lexer": "ipython3",
   "version": "3.12.4"
  }
 },
 "nbformat": 4,
 "nbformat_minor": 0
}
